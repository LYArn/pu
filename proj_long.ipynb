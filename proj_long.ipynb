{
 "cells": [
  {
   "cell_type": "code",
   "execution_count": 1,
   "metadata": {},
   "outputs": [
    {
     "name": "stderr",
     "output_type": "stream",
     "text": [
      "/home/arnaud/miniconda3/envs/projet_long/lib/python3.10/site-packages/tqdm/auto.py:21: TqdmWarning: IProgress not found. Please update jupyter and ipywidgets. See https://ipywidgets.readthedocs.io/en/stable/user_install.html\n",
      "  from .autonotebook import tqdm as notebook_tqdm\n",
      "2023-06-02 05:10:26.611894: I tensorflow/core/platform/cpu_feature_guard.cc:182] This TensorFlow binary is optimized to use available CPU instructions in performance-critical operations.\n",
      "To enable the following instructions: SSE4.1 SSE4.2 AVX AVX2 AVX512F AVX512_VNNI FMA, in other operations, rebuild TensorFlow with the appropriate compiler flags.\n"
     ]
    },
    {
     "name": "stdout",
     "output_type": "stream",
     "text": [
      "/home/arnaud/projet_long/dataset\n"
     ]
    }
   ],
   "source": [
    "import os \n",
    "import re\n",
    "import random\n",
    "import glob\n",
    "import numpy as np\n",
    "import pandas as pd\n",
    "import matplotlib.pyplot as plt\n",
    "# import seaborn as sns\n",
    "\n",
    "from pathlib import Path\n",
    "from Bio import SeqIO\n",
    "from itertools import islice\n",
    "from tqdm import tqdm\n",
    "import torch\n",
    "import tensorflow as tf\n",
    "from keras.utils.np_utils import to_categorical\n",
    "from keras.models import Model, Sequential\n",
    "from keras.layers import Dense, GRU, Bidirectional, Dropout, Flatten\n",
    "from keras.callbacks import EarlyStopping\n",
    "from keras.optimizers import Adam\n",
    "\n",
    "%cd dataset/"
   ]
  },
  {
   "attachments": {},
   "cell_type": "markdown",
   "metadata": {},
   "source": [
    "# Preprocessing"
   ]
  },
  {
   "attachments": {},
   "cell_type": "markdown",
   "metadata": {},
   "source": [
    "## Embedding generation"
   ]
  },
  {
   "attachments": {},
   "cell_type": "markdown",
   "metadata": {},
   "source": [
    "### Core PU Sequence generation"
   ]
  },
  {
   "cell_type": "code",
   "execution_count": 2,
   "metadata": {},
   "outputs": [],
   "source": [
    "classes = []\n",
    "topo = []\n",
    "protofold = []\n",
    "fq = []\n",
    "pu = []\n",
    "\n",
    "with open('../LISTS_CATFS_PU_PROTOTYPE_with_fused_famillies', 'r') as file:\n",
    "    for line in islice(file, 7, None):\n",
    "        tmp = line.split(maxsplit=5)\n",
    "        if len(tmp[2])>=2 and int(tmp[4])>10:\n",
    "            classes.append(tmp[0])\n",
    "            topo.append(tmp[2])\n",
    "            protofold.append(tmp[3])\n",
    "            fq.append(tmp[4])\n",
    "            pu.append(tmp[5])\n",
    "\n",
    "x = {'Class':classes, 'Topology':topo, 'Protofold':protofold, 'Frequency':fq, 'PU':pu}\n",
    "list_pu = pd.DataFrame(x, columns=['Class', 'Topology', 'Protofold', 'Frequency', 'PU'])\n",
    "list_pu = list_pu.astype({'Frequency': 'int'})"
   ]
  },
  {
   "cell_type": "code",
   "execution_count": 3,
   "metadata": {},
   "outputs": [
    {
     "data": {
      "text/html": [
       "<div>\n",
       "<style scoped>\n",
       "    .dataframe tbody tr th:only-of-type {\n",
       "        vertical-align: middle;\n",
       "    }\n",
       "\n",
       "    .dataframe tbody tr th {\n",
       "        vertical-align: top;\n",
       "    }\n",
       "\n",
       "    .dataframe thead th {\n",
       "        text-align: right;\n",
       "    }\n",
       "</style>\n",
       "<table border=\"1\" class=\"dataframe\">\n",
       "  <thead>\n",
       "    <tr style=\"text-align: right;\">\n",
       "      <th></th>\n",
       "      <th>Class</th>\n",
       "      <th>Topology</th>\n",
       "      <th>Protofold</th>\n",
       "      <th>Frequency</th>\n",
       "      <th>PU</th>\n",
       "    </tr>\n",
       "  </thead>\n",
       "  <tbody>\n",
       "    <tr>\n",
       "      <th>0</th>\n",
       "      <td>Alpha-beta</td>\n",
       "      <td>aUbLa</td>\n",
       "      <td>35.g162</td>\n",
       "      <td>157</td>\n",
       "      <td>1YISA_10_258_288 :3K7XA_10_267_294 4G10A_4_105...</td>\n",
       "    </tr>\n",
       "    <tr>\n",
       "      <th>1</th>\n",
       "      <td>Alpha-beta</td>\n",
       "      <td>bUaUbLa</td>\n",
       "      <td>45.g94</td>\n",
       "      <td>31</td>\n",
       "      <td>3ICSA_11_510_555 :2HHGA_2_86_132 3SNKA_1_1_48 ...</td>\n",
       "    </tr>\n",
       "    <tr>\n",
       "      <th>2</th>\n",
       "      <td>All-alpha</td>\n",
       "      <td>aUa</td>\n",
       "      <td>30.g155</td>\n",
       "      <td>18</td>\n",
       "      <td>1GTVA_5_94_120 :3HHWK_10_221_247 3CYMA_11_344_...</td>\n",
       "    </tr>\n",
       "    <tr>\n",
       "      <th>3</th>\n",
       "      <td>Alpha-beta</td>\n",
       "      <td>aLbUa</td>\n",
       "      <td>40.g195</td>\n",
       "      <td>30</td>\n",
       "      <td>2YGUA_1_1_44 :2QUYA_2_220_260 3NRGA_4_65_113 3...</td>\n",
       "    </tr>\n",
       "    <tr>\n",
       "      <th>4</th>\n",
       "      <td>All-beta</td>\n",
       "      <td>bUbUb</td>\n",
       "      <td>40.g161</td>\n",
       "      <td>12</td>\n",
       "      <td>3HBKA_4_141_178 :3HBKA_4_141_178 2V73A_2_96_13...</td>\n",
       "    </tr>\n",
       "    <tr>\n",
       "      <th>...</th>\n",
       "      <td>...</td>\n",
       "      <td>...</td>\n",
       "      <td>...</td>\n",
       "      <td>...</td>\n",
       "      <td>...</td>\n",
       "    </tr>\n",
       "    <tr>\n",
       "      <th>1170</th>\n",
       "      <td>Alpha-beta</td>\n",
       "      <td>aUb</td>\n",
       "      <td>20.g33</td>\n",
       "      <td>209</td>\n",
       "      <td>2OCZA_4_73_96 :3I4JA_10_62_87 3MDDA_10_66_89 2...</td>\n",
       "    </tr>\n",
       "    <tr>\n",
       "      <th>1171</th>\n",
       "      <td>Alpha-beta</td>\n",
       "      <td>aUbLa</td>\n",
       "      <td>30.g84</td>\n",
       "      <td>37</td>\n",
       "      <td>1EV7A_6_179_211 :3SQNA_10_282_316 2ICWG_3_151_...</td>\n",
       "    </tr>\n",
       "    <tr>\n",
       "      <th>1172</th>\n",
       "      <td>All-beta</td>\n",
       "      <td>bUbUb</td>\n",
       "      <td>30.g13</td>\n",
       "      <td>91</td>\n",
       "      <td>1EW4A_3_26_53 :3Q7MA_10_123_156 3OBYA_10_110_1...</td>\n",
       "    </tr>\n",
       "    <tr>\n",
       "      <th>1173</th>\n",
       "      <td>Alpha-beta</td>\n",
       "      <td>aLbLa</td>\n",
       "      <td>30.g11</td>\n",
       "      <td>200</td>\n",
       "      <td>1OKSA_1_1_30 :3LLKA_5_136_165 3FRKA_10_339_365...</td>\n",
       "    </tr>\n",
       "    <tr>\n",
       "      <th>1174</th>\n",
       "      <td>All-alpha</td>\n",
       "      <td>aUa</td>\n",
       "      <td>35.g38</td>\n",
       "      <td>146</td>\n",
       "      <td>1RRMA_7_184_219 :2FTZA_5_1_37 2FNOA_2_91_132 1...</td>\n",
       "    </tr>\n",
       "  </tbody>\n",
       "</table>\n",
       "<p>1175 rows × 5 columns</p>\n",
       "</div>"
      ],
      "text/plain": [
       "           Class Topology Protofold  Frequency  \\\n",
       "0     Alpha-beta    aUbLa   35.g162        157   \n",
       "1     Alpha-beta  bUaUbLa    45.g94         31   \n",
       "2      All-alpha      aUa   30.g155         18   \n",
       "3     Alpha-beta    aLbUa   40.g195         30   \n",
       "4       All-beta    bUbUb   40.g161         12   \n",
       "...          ...      ...       ...        ...   \n",
       "1170  Alpha-beta      aUb    20.g33        209   \n",
       "1171  Alpha-beta    aUbLa    30.g84         37   \n",
       "1172    All-beta    bUbUb    30.g13         91   \n",
       "1173  Alpha-beta    aLbLa    30.g11        200   \n",
       "1174   All-alpha      aUa    35.g38        146   \n",
       "\n",
       "                                                     PU  \n",
       "0     1YISA_10_258_288 :3K7XA_10_267_294 4G10A_4_105...  \n",
       "1     3ICSA_11_510_555 :2HHGA_2_86_132 3SNKA_1_1_48 ...  \n",
       "2     1GTVA_5_94_120 :3HHWK_10_221_247 3CYMA_11_344_...  \n",
       "3     2YGUA_1_1_44 :2QUYA_2_220_260 3NRGA_4_65_113 3...  \n",
       "4     3HBKA_4_141_178 :3HBKA_4_141_178 2V73A_2_96_13...  \n",
       "...                                                 ...  \n",
       "1170  2OCZA_4_73_96 :3I4JA_10_62_87 3MDDA_10_66_89 2...  \n",
       "1171  1EV7A_6_179_211 :3SQNA_10_282_316 2ICWG_3_151_...  \n",
       "1172  1EW4A_3_26_53 :3Q7MA_10_123_156 3OBYA_10_110_1...  \n",
       "1173  1OKSA_1_1_30 :3LLKA_5_136_165 3FRKA_10_339_365...  \n",
       "1174  1RRMA_7_184_219 :2FTZA_5_1_37 2FNOA_2_91_132 1...  \n",
       "\n",
       "[1175 rows x 5 columns]"
      ]
     },
     "execution_count": 3,
     "metadata": {},
     "output_type": "execute_result"
    }
   ],
   "source": [
    "list_pu"
   ]
  },
  {
   "attachments": {},
   "cell_type": "markdown",
   "metadata": {},
   "source": [
    "Sort Dataframe by Frequency and\n",
    "Remove duplicate for Protofold"
   ]
  },
  {
   "cell_type": "code",
   "execution_count": 4,
   "metadata": {},
   "outputs": [],
   "source": [
    "list_pu = list_pu.sort_values('Frequency', ascending=False)\n",
    "filt_pu = list_pu.drop_duplicates(subset=['Topology', 'Protofold','Frequency'], keep='first')\n",
    "filt_pu = filt_pu.reset_index(drop=True)"
   ]
  },
  {
   "cell_type": "code",
   "execution_count": 6,
   "metadata": {},
   "outputs": [
    {
     "data": {
      "text/html": [
       "<div>\n",
       "<style scoped>\n",
       "    .dataframe tbody tr th:only-of-type {\n",
       "        vertical-align: middle;\n",
       "    }\n",
       "\n",
       "    .dataframe tbody tr th {\n",
       "        vertical-align: top;\n",
       "    }\n",
       "\n",
       "    .dataframe thead th {\n",
       "        text-align: right;\n",
       "    }\n",
       "</style>\n",
       "<table border=\"1\" class=\"dataframe\">\n",
       "  <thead>\n",
       "    <tr style=\"text-align: right;\">\n",
       "      <th></th>\n",
       "      <th>Class</th>\n",
       "      <th>Topology</th>\n",
       "      <th>Protofold</th>\n",
       "      <th>Frequency</th>\n",
       "      <th>PU</th>\n",
       "    </tr>\n",
       "  </thead>\n",
       "  <tbody>\n",
       "    <tr>\n",
       "      <th>0</th>\n",
       "      <td>Alpha-beta</td>\n",
       "      <td>bLa</td>\n",
       "      <td>35.g219</td>\n",
       "      <td>1209</td>\n",
       "      <td>1VHOA_7_288_318 :3VHLA_6_236_264 3ONOA_1_142_1...</td>\n",
       "    </tr>\n",
       "    <tr>\n",
       "      <th>1</th>\n",
       "      <td>All-alpha</td>\n",
       "      <td>aUa</td>\n",
       "      <td>30.g9</td>\n",
       "      <td>1004</td>\n",
       "      <td>1S9UA_4_157_189 :2RKLA_1_17_53 3G7RA_3_152_182...</td>\n",
       "    </tr>\n",
       "    <tr>\n",
       "      <th>2</th>\n",
       "      <td>All-alpha</td>\n",
       "      <td>aUa</td>\n",
       "      <td>35.g0</td>\n",
       "      <td>1004</td>\n",
       "      <td>1CPQA_3_16_49 :3M73A_10_84_118 3PEVB_6_89_128 ...</td>\n",
       "    </tr>\n",
       "    <tr>\n",
       "      <th>3</th>\n",
       "      <td>All-alpha</td>\n",
       "      <td>aUa</td>\n",
       "      <td>30.g28</td>\n",
       "      <td>966</td>\n",
       "      <td>1IO1A_5_30_63 :1ZROA_13_488_520 2QX5A_10_353_3...</td>\n",
       "    </tr>\n",
       "    <tr>\n",
       "      <th>4</th>\n",
       "      <td>All-alpha</td>\n",
       "      <td>aUa</td>\n",
       "      <td>40.g122</td>\n",
       "      <td>903</td>\n",
       "      <td>2PZIA_10_505_544 :3NCTA_3_1_34 3MZVA_1_272_309...</td>\n",
       "    </tr>\n",
       "    <tr>\n",
       "      <th>...</th>\n",
       "      <td>...</td>\n",
       "      <td>...</td>\n",
       "      <td>...</td>\n",
       "      <td>...</td>\n",
       "      <td>...</td>\n",
       "    </tr>\n",
       "    <tr>\n",
       "      <th>687</th>\n",
       "      <td>All-beta</td>\n",
       "      <td>bUbLb</td>\n",
       "      <td>35.g133</td>\n",
       "      <td>11</td>\n",
       "      <td>1YFQA_10_270_301 :3F3FA_10_32_63 3VU4A_12_21_5...</td>\n",
       "    </tr>\n",
       "    <tr>\n",
       "      <th>688</th>\n",
       "      <td>Alpha-beta</td>\n",
       "      <td>aUbUb</td>\n",
       "      <td>40.g87</td>\n",
       "      <td>11</td>\n",
       "      <td>1C7NA_6_290_331 :2CY8A_10_284_325 3BCHA_2_156_...</td>\n",
       "    </tr>\n",
       "    <tr>\n",
       "      <th>689</th>\n",
       "      <td>Alpha-beta</td>\n",
       "      <td>aUbLa</td>\n",
       "      <td>25.g204</td>\n",
       "      <td>11</td>\n",
       "      <td>1KHDA_10_1_25 :2WB7A_10_132_158 2NSZA_3_105_12...</td>\n",
       "    </tr>\n",
       "    <tr>\n",
       "      <th>690</th>\n",
       "      <td>Alpha-beta</td>\n",
       "      <td>bUa</td>\n",
       "      <td>30.g156</td>\n",
       "      <td>11</td>\n",
       "      <td>1MOQA_11_51_78 :3SDOA_12_320_347 2AMLA_11_217_...</td>\n",
       "    </tr>\n",
       "    <tr>\n",
       "      <th>691</th>\n",
       "      <td>Alpha-beta</td>\n",
       "      <td>aUbUa</td>\n",
       "      <td>45.g46</td>\n",
       "      <td>11</td>\n",
       "      <td>1L5OA_10_243_283 :3FKCA_2_69_113 1VLUA_5_269_3...</td>\n",
       "    </tr>\n",
       "  </tbody>\n",
       "</table>\n",
       "<p>692 rows × 5 columns</p>\n",
       "</div>"
      ],
      "text/plain": [
       "          Class Topology Protofold  Frequency  \\\n",
       "0    Alpha-beta      bLa   35.g219       1209   \n",
       "1     All-alpha      aUa     30.g9       1004   \n",
       "2     All-alpha      aUa     35.g0       1004   \n",
       "3     All-alpha      aUa    30.g28        966   \n",
       "4     All-alpha      aUa   40.g122        903   \n",
       "..          ...      ...       ...        ...   \n",
       "687    All-beta    bUbLb   35.g133         11   \n",
       "688  Alpha-beta    aUbUb    40.g87         11   \n",
       "689  Alpha-beta    aUbLa   25.g204         11   \n",
       "690  Alpha-beta      bUa   30.g156         11   \n",
       "691  Alpha-beta    aUbUa    45.g46         11   \n",
       "\n",
       "                                                    PU  \n",
       "0    1VHOA_7_288_318 :3VHLA_6_236_264 3ONOA_1_142_1...  \n",
       "1    1S9UA_4_157_189 :2RKLA_1_17_53 3G7RA_3_152_182...  \n",
       "2    1CPQA_3_16_49 :3M73A_10_84_118 3PEVB_6_89_128 ...  \n",
       "3    1IO1A_5_30_63 :1ZROA_13_488_520 2QX5A_10_353_3...  \n",
       "4    2PZIA_10_505_544 :3NCTA_3_1_34 3MZVA_1_272_309...  \n",
       "..                                                 ...  \n",
       "687  1YFQA_10_270_301 :3F3FA_10_32_63 3VU4A_12_21_5...  \n",
       "688  1C7NA_6_290_331 :2CY8A_10_284_325 3BCHA_2_156_...  \n",
       "689  1KHDA_10_1_25 :2WB7A_10_132_158 2NSZA_3_105_12...  \n",
       "690  1MOQA_11_51_78 :3SDOA_12_320_347 2AMLA_11_217_...  \n",
       "691  1L5OA_10_243_283 :3FKCA_2_69_113 1VLUA_5_269_3...  \n",
       "\n",
       "[692 rows x 5 columns]"
      ]
     },
     "execution_count": 6,
     "metadata": {},
     "output_type": "execute_result"
    }
   ],
   "source": [
    "filt_pu"
   ]
  },
  {
   "attachments": {},
   "cell_type": "markdown",
   "metadata": {},
   "source": [
    "Generate list of pu without redundancy of pu in a protofold class (for example, 30.g219 and 50.g219 are considered the same so if a pu is present in both class, only the first one will be kept)\n"
   ]
  },
  {
   "cell_type": "code",
   "execution_count": 19,
   "metadata": {},
   "outputs": [
    {
     "data": {
      "text/html": [
       "<div>\n",
       "<style scoped>\n",
       "    .dataframe tbody tr th:only-of-type {\n",
       "        vertical-align: middle;\n",
       "    }\n",
       "\n",
       "    .dataframe tbody tr th {\n",
       "        vertical-align: top;\n",
       "    }\n",
       "\n",
       "    .dataframe thead th {\n",
       "        text-align: right;\n",
       "    }\n",
       "</style>\n",
       "<table border=\"1\" class=\"dataframe\">\n",
       "  <thead>\n",
       "    <tr style=\"text-align: right;\">\n",
       "      <th></th>\n",
       "      <th>Protofold</th>\n",
       "      <th>PU</th>\n",
       "      <th>Class</th>\n",
       "    </tr>\n",
       "  </thead>\n",
       "  <tbody>\n",
       "    <tr>\n",
       "      <th>0</th>\n",
       "      <td>35.g219</td>\n",
       "      <td>1VHOA_7_288_318</td>\n",
       "      <td>g219</td>\n",
       "    </tr>\n",
       "    <tr>\n",
       "      <th>0</th>\n",
       "      <td>35.g219</td>\n",
       "      <td>3VHLA_6_236_264</td>\n",
       "      <td>g219</td>\n",
       "    </tr>\n",
       "    <tr>\n",
       "      <th>0</th>\n",
       "      <td>35.g219</td>\n",
       "      <td>3ONOA_1_142_167</td>\n",
       "      <td>g219</td>\n",
       "    </tr>\n",
       "    <tr>\n",
       "      <th>0</th>\n",
       "      <td>35.g219</td>\n",
       "      <td>3U52A_5_51_82</td>\n",
       "      <td>g219</td>\n",
       "    </tr>\n",
       "    <tr>\n",
       "      <th>0</th>\n",
       "      <td>35.g219</td>\n",
       "      <td>3T92A_1_86_112</td>\n",
       "      <td>g219</td>\n",
       "    </tr>\n",
       "    <tr>\n",
       "      <th>...</th>\n",
       "      <td>...</td>\n",
       "      <td>...</td>\n",
       "      <td>...</td>\n",
       "    </tr>\n",
       "    <tr>\n",
       "      <th>299</th>\n",
       "      <td>20.g92</td>\n",
       "      <td>3M0ZA_7_179_194</td>\n",
       "      <td>g92</td>\n",
       "    </tr>\n",
       "    <tr>\n",
       "      <th>299</th>\n",
       "      <td>20.g92</td>\n",
       "      <td>2VHJA_10_207_222</td>\n",
       "      <td>g92</td>\n",
       "    </tr>\n",
       "    <tr>\n",
       "      <th>299</th>\n",
       "      <td>20.g92</td>\n",
       "      <td>3ROTA_11_150_165</td>\n",
       "      <td>g92</td>\n",
       "    </tr>\n",
       "    <tr>\n",
       "      <th>299</th>\n",
       "      <td>20.g92</td>\n",
       "      <td>1W94A_5_19_34</td>\n",
       "      <td>g92</td>\n",
       "    </tr>\n",
       "    <tr>\n",
       "      <th>299</th>\n",
       "      <td>20.g92</td>\n",
       "      <td>3NYQA_17_189_205\\n</td>\n",
       "      <td>g92</td>\n",
       "    </tr>\n",
       "  </tbody>\n",
       "</table>\n",
       "<p>45424 rows × 3 columns</p>\n",
       "</div>"
      ],
      "text/plain": [
       "    Protofold                  PU Class\n",
       "0     35.g219     1VHOA_7_288_318  g219\n",
       "0     35.g219     3VHLA_6_236_264  g219\n",
       "0     35.g219     3ONOA_1_142_167  g219\n",
       "0     35.g219       3U52A_5_51_82  g219\n",
       "0     35.g219      3T92A_1_86_112  g219\n",
       "..        ...                 ...   ...\n",
       "299    20.g92     3M0ZA_7_179_194   g92\n",
       "299    20.g92    2VHJA_10_207_222   g92\n",
       "299    20.g92    3ROTA_11_150_165   g92\n",
       "299    20.g92       1W94A_5_19_34   g92\n",
       "299    20.g92  3NYQA_17_189_205\\n   g92\n",
       "\n",
       "[45424 rows x 3 columns]"
      ]
     },
     "execution_count": 19,
     "metadata": {},
     "output_type": "execute_result"
    }
   ],
   "source": [
    "df_pu = pd.DataFrame().assign(Protofold = filt_pu.iloc[:300,:]['Protofold'], PU = filt_pu.iloc[:300,:]['PU'])\n",
    "tmp_df = df_pu['PU'].str.split(' ').apply(pd.Series, 1).stack() #Split PU into rows\n",
    "tmp_df = tmp_df.replace(r'n','', regex=True).replace(r':','', regex=True) #Remove 'n' and ':'\n",
    "tmp_df.index = tmp_df.index.droplevel(-1)\n",
    "tmp_df.name = 'PU' #Need to rename to have index with which joining can be done\n",
    "del df_pu['PU']\n",
    "df_pu = df_pu.join(tmp_df)\n",
    "df_pu['Class'] = df_pu['Protofold'].str.split('.', expand = True)[1] #Get ID : 35.g129 -> g219\n",
    "df_pu = df_pu.drop_duplicates(subset=['PU', 'Class'], keep='first')\n",
    "df_pu"
   ]
  },
  {
   "cell_type": "code",
   "execution_count": 6,
   "metadata": {},
   "outputs": [
    {
     "name": "stdout",
     "output_type": "stream",
     "text": [
      "There are 45100 total PU and 18765 unique\n"
     ]
    }
   ],
   "source": [
    "select_pu, unique_pu = [], []\n",
    "select_pu = df_pu[['Protofold', 'PU']].values.tolist()\n",
    "[unique_pu.append([proto, pu]) for proto, pu in select_pu if pu not in [item[1] for item in unique_pu]]\n",
    "print(f\"There are {len(select_pu)} total PU and {len(unique_pu)} unique\")"
   ]
  },
  {
   "attachments": {},
   "cell_type": "markdown",
   "metadata": {},
   "source": [
    "### Generate Core PU Embedding with ESMFold2"
   ]
  },
  {
   "attachments": {},
   "cell_type": "markdown",
   "metadata": {},
   "source": [
    "Generate PU for aligning and getting source sequence. Embedding will be done on unique_pu first as some of their source sequences are shared with select_pu"
   ]
  },
  {
   "cell_type": "code",
   "execution_count": null,
   "metadata": {},
   "outputs": [],
   "source": [
    "def pdb_gen(file):\n",
    "    with open(tmp.txt) as file:\n",
    "      f = file.read()\n",
    "      pdb = re.search(r\">>\\w{4}_.\", f).group(0)[2:]\n",
    "      pos = re.findall(r\"\\d+-\\d+\", f)[1]\n",
    "      yield pdb, pos"
   ]
  },
  {
   "cell_type": "code",
   "execution_count": null,
   "metadata": {},
   "outputs": [],
   "source": [
    "no_result = []\n",
    "\n",
    "for proto, pu in tqdm(islice(unique_pu, len(unique_pu))):\n",
    "  name = f'{pu[0:4].lower()}_{pu[4]}'\n",
    "  !ssearch36 ./PU/$pu.fasta ./pdb_seqres.txt | grep -A2 -m1 ^>>$name > ./tmp.txt\n",
    "  \n",
    "  if os.stat(tmp.txt).st_size != 0: #If file not empty = If alignment gives result\n",
    "    for y in pdb_gen(tmp.txt):\n",
    "      pdb, pos = y\n",
    "      !grep -A1 $pdb ./pdb_seqres.txt | sed s/>{pdb}/&_{proto}_{pos}/ >> pdb_core.fasta\n",
    "  else:\n",
    "    no_result.append([proto, pu])"
   ]
  },
  {
   "cell_type": "code",
   "execution_count": null,
   "metadata": {},
   "outputs": [],
   "source": [
    "with open('tmp.fasta', 'w') as f:\n",
    "    records = SeqIO.parse('./pdb_core.fasta', 'fasta')\n",
    "    for record in records:\n",
    "        f.write(f'>{record.id}n')\n",
    "        f.write(f'{record.seq}n')\n",
    "!esm-extract esm2_t33_650M_UR50D tmp.fasta ./emb_esm2/ --include per_tok"
   ]
  },
  {
   "attachments": {},
   "cell_type": "markdown",
   "metadata": {},
   "source": [
    "List of PU without embedding, including those in select_pu"
   ]
  },
  {
   "cell_type": "code",
   "execution_count": null,
   "metadata": {},
   "outputs": [],
   "source": [
    "list_emb = os.listdir(\"emb_esm2/\") "
   ]
  },
  {
   "cell_type": "code",
   "execution_count": null,
   "metadata": {},
   "outputs": [],
   "source": [
    "l = []\n",
    "for proto, pu in select_pu:\n",
    "    l.append([pu, proto, f'{pu[:4].lower()}_{pu[4]}_{proto}']) # Formatting name the same as embedding file name\n",
    "\n",
    "l_emb = []\n",
    "for emb in list_emb: \n",
    "    x = emb.split('_') # Example file name : 1a0c_A_25.g86_66-94.pt\n",
    "    l_emb.append(f'{x[0]}_{x[1]}_{x[2]}')\n",
    "\n",
    "no_emb = []\n",
    "[no_emb.append([pu, p, x]) for pu, p, x in l if x not in l_emb]"
   ]
  },
  {
   "attachments": {},
   "cell_type": "markdown",
   "metadata": {},
   "source": [
    "## Data generation"
   ]
  },
  {
   "cell_type": "code",
   "execution_count": null,
   "metadata": {},
   "outputs": [],
   "source": [
    "def pad(array, target_shape):\n",
    "    return np.pad(array, [(0, target_shape[i] - array.shape[i]) for i in range(len(array.shape))], constant,)\n",
    "\n",
    "def data_gen(path_file, path_save, name, pos_start, pos_end):\n",
    "    tmp = torch.load(path_file)\n",
    "    tens = np.array(tmp[\"representations\"][33])[pos_start:pos_end]\n",
    "\n",
    "    try:\n",
    "        tens_padded = pad(tens, (60, 1280))\n",
    "    except ValueError:\n",
    "        tens_padded = np.resize(tens, (60, 1280))\n",
    "    \n",
    "    if not os.path.exists(path_save):\n",
    "        os.makedirs(path_save)\n",
    "        np.savetxt(f'{path_save}/{name}.csv', tens_padded, delimiter = \",\")\n",
    "    else:\n",
    "        np.savetxt(f'{path_save}/{name}.csv', tens_padded, delimiter = \",\")"
   ]
  },
  {
   "attachments": {},
   "cell_type": "markdown",
   "metadata": {},
   "source": [
    "### PU cores"
   ]
  },
  {
   "attachments": {},
   "cell_type": "markdown",
   "metadata": {},
   "source": [
    "Select sequence of interest from embedding for PUs unique"
   ]
  },
  {
   "cell_type": "code",
   "execution_count": null,
   "metadata": {},
   "outputs": [],
   "source": [
    "for file in tqdm(list_emb):\n",
    "    name = f\"{os.path.basename(file).split('_')[0]}_{os.path.basename(file).split('_')[1]}\"\n",
    "    pu_class = os.path.basename(file).split('_')[2]\n",
    "    pos_start = int(file.split('_')[-1].split(\"-\")[0])-1\n",
    "    pos_end = int(file.split('_')[-1].split('-')[-1].rsplit(\".\")[0])\n",
    "\n",
    "    path_save = f\"home/arnaud/projet_long/dataset/core/{pu_class}\"\n",
    "    path_file = f\"home/arnaud/projet_long/emb_esm2/{file}\"\n",
    "    \n",
    "    if os.path.isfile(f\"{path_save}/{name}.csv\"):\n",
    "        pass\n",
    "    else:\n",
    "        data_gen(path_file, path_save, name, pos_start, pos_end)"
   ]
  },
  {
   "attachments": {},
   "cell_type": "markdown",
   "metadata": {},
   "source": [
    "### Noncores PU"
   ]
  },
  {
   "attachments": {},
   "cell_type": "markdown",
   "metadata": {},
   "source": [
    "For Noncore PUs\n",
    "- Directly generate padded data from embedded source sequences used for core PUs\n",
    "- If PU don't have their source sequences embedded, we generate them \n",
    "- Generate data for those PU"
   ]
  },
  {
   "attachments": {},
   "cell_type": "markdown",
   "metadata": {},
   "source": [
    "1) Generate list of noncores PU"
   ]
  },
  {
   "cell_type": "code",
   "execution_count": 30,
   "metadata": {},
   "outputs": [],
   "source": [
    "nc_list_file = []\n",
    "nc_names = []\n",
    "nc_length = []\n",
    "nc_pos_start = []\n",
    "nc_pos_end = []\n",
    "with open('../LIST_OF_PUs_UNCLASSED.txt', 'r') as file:\n",
    "    for line in file: #Ex : 16VPA_10_41_59.fasta\n",
    "        tmp = line.rstrip().split('_')[0]\n",
    "        nc_names.append(f\"{tmp[:-1].lower()}_{tmp[-1]}\")\n",
    "        nc_length.append(line.split('_')[1])\n",
    "        nc_pos_start.append(int(line.rstrip().split('_')[-2]))\n",
    "        nc_pos_end.append(int(line.rstrip().split('_')[-1].split('.')[0]))\n",
    "        nc_list_file.append(line.rstrip().split('.')[0])"
   ]
  },
  {
   "cell_type": "code",
   "execution_count": 31,
   "metadata": {},
   "outputs": [
    {
     "data": {
      "text/html": [
       "<div>\n",
       "<style scoped>\n",
       "    .dataframe tbody tr th:only-of-type {\n",
       "        vertical-align: middle;\n",
       "    }\n",
       "\n",
       "    .dataframe tbody tr th {\n",
       "        vertical-align: top;\n",
       "    }\n",
       "\n",
       "    .dataframe thead th {\n",
       "        text-align: right;\n",
       "    }\n",
       "</style>\n",
       "<table border=\"1\" class=\"dataframe\">\n",
       "  <thead>\n",
       "    <tr style=\"text-align: right;\">\n",
       "      <th></th>\n",
       "      <th>Filename</th>\n",
       "      <th>Length</th>\n",
       "      <th>Start</th>\n",
       "      <th>End</th>\n",
       "    </tr>\n",
       "  </thead>\n",
       "  <tbody>\n",
       "    <tr>\n",
       "      <th>0</th>\n",
       "      <td>2x6w_A</td>\n",
       "      <td>27</td>\n",
       "      <td>175</td>\n",
       "      <td>199</td>\n",
       "    </tr>\n",
       "    <tr>\n",
       "      <th>1</th>\n",
       "      <td>2x6w_A</td>\n",
       "      <td>27</td>\n",
       "      <td>200</td>\n",
       "      <td>218</td>\n",
       "    </tr>\n",
       "    <tr>\n",
       "      <th>2</th>\n",
       "      <td>1kmo_A</td>\n",
       "      <td>27</td>\n",
       "      <td>105</td>\n",
       "      <td>122</td>\n",
       "    </tr>\n",
       "    <tr>\n",
       "      <th>3</th>\n",
       "      <td>1k3i_A</td>\n",
       "      <td>26</td>\n",
       "      <td>383</td>\n",
       "      <td>401</td>\n",
       "    </tr>\n",
       "    <tr>\n",
       "      <th>4</th>\n",
       "      <td>1k3i_A</td>\n",
       "      <td>26</td>\n",
       "      <td>402</td>\n",
       "      <td>422</td>\n",
       "    </tr>\n",
       "    <tr>\n",
       "      <th>...</th>\n",
       "      <td>...</td>\n",
       "      <td>...</td>\n",
       "      <td>...</td>\n",
       "      <td>...</td>\n",
       "    </tr>\n",
       "    <tr>\n",
       "      <th>44141</th>\n",
       "      <td>2hbv_A</td>\n",
       "      <td>10</td>\n",
       "      <td>1</td>\n",
       "      <td>22</td>\n",
       "    </tr>\n",
       "    <tr>\n",
       "      <th>44142</th>\n",
       "      <td>2hbj_A</td>\n",
       "      <td>10</td>\n",
       "      <td>272</td>\n",
       "      <td>293</td>\n",
       "    </tr>\n",
       "    <tr>\n",
       "      <th>44143</th>\n",
       "      <td>2g82_A</td>\n",
       "      <td>10</td>\n",
       "      <td>53</td>\n",
       "      <td>71</td>\n",
       "    </tr>\n",
       "    <tr>\n",
       "      <th>44144</th>\n",
       "      <td>2g82_A</td>\n",
       "      <td>10</td>\n",
       "      <td>72</td>\n",
       "      <td>91</td>\n",
       "    </tr>\n",
       "    <tr>\n",
       "      <th>44145</th>\n",
       "      <td>2gqw_A</td>\n",
       "      <td>10</td>\n",
       "      <td>231</td>\n",
       "      <td>250</td>\n",
       "    </tr>\n",
       "  </tbody>\n",
       "</table>\n",
       "<p>44146 rows × 4 columns</p>\n",
       "</div>"
      ],
      "text/plain": [
       "      Filename  Length  Start  End\n",
       "0       2x6w_A      27    175  199\n",
       "1       2x6w_A      27    200  218\n",
       "2       1kmo_A      27    105  122\n",
       "3       1k3i_A      26    383  401\n",
       "4       1k3i_A      26    402  422\n",
       "...        ...     ...    ...  ...\n",
       "44141   2hbv_A      10      1   22\n",
       "44142   2hbj_A      10    272  293\n",
       "44143   2g82_A      10     53   71\n",
       "44144   2g82_A      10     72   91\n",
       "44145   2gqw_A      10    231  250\n",
       "\n",
       "[44146 rows x 4 columns]"
      ]
     },
     "execution_count": 31,
     "metadata": {},
     "output_type": "execute_result"
    }
   ],
   "source": [
    "x = {\"Filename\" : nc_names, 'Length' : nc_length, \"Start\" : nc_pos_start,\"End\" : nc_pos_end}\n",
    "df_nc = pd.DataFrame(x, columns=[\"Filename\", \"Length\", \"Start\", \"End\"])\n",
    "df_nc = df_nc.astype({'Length': 'int'})\n",
    "\n",
    "df_nc = df_nc.sort_values('Length', ascending=False)\n",
    "df_modif_nc = df_nc.drop_duplicates(subset=[\"Filename\", \"Length\", \"Start\", \"End\"], keep='first')\n",
    "df_modif_nc = df_modif_nc[df_modif_nc['Length'] >= 10]\n",
    "df_modif_nc = df_modif_nc.reset_index(drop=True)\n",
    "df_modif_nc"
   ]
  },
  {
   "cell_type": "code",
   "execution_count": null,
   "metadata": {},
   "outputs": [],
   "source": [
    "nc_data = df_modif_nc.replace(r'_','', regex=True).astype(str).values.tolist()\n",
    "nc_data = ['_'.join(sublist).upper() for sublist in nc_data]"
   ]
  },
  {
   "attachments": {},
   "cell_type": "markdown",
   "metadata": {},
   "source": [
    "2) Generate padded data for those with source sequences embedded"
   ]
  },
  {
   "cell_type": "code",
   "execution_count": null,
   "metadata": {},
   "outputs": [],
   "source": [
    "nc_no_emb = []\n",
    "for filename in tqdm(nc_data):\n",
    "    name = filename.split('_')[0][:-1].lower() # To match embedding file name : 2X6WA_27_175_199 in nc_data -> 2x6w* in embedding file\n",
    "    for file in glob.glob(f'/home/arnaud/projet_long/emb_esm2/{name}*'):\n",
    "        save = \"/home/arnaud/projet_long/dataset/noncore/\"\n",
    "        nc_start = int(filename.split('_')[-2])\n",
    "        nc_end = int(filename.split('_')[-1])\n",
    "        data_gen(file, save, filename, nc_start, nc_end)\n",
    "    tmp = f\"{save}/{filename}.csv\"\n",
    "    if os.path.isfile(tmp):\n",
    "        pass\n",
    "    else:\n",
    "        nc_no_emb.append(filename)"
   ]
  },
  {
   "attachments": {},
   "cell_type": "markdown",
   "metadata": {},
   "source": [
    "3) From list of PU without source sequences embedding, generate embedding with ESM-extract"
   ]
  },
  {
   "cell_type": "code",
   "execution_count": null,
   "metadata": {},
   "outputs": [],
   "source": [
    "extra = []\n",
    "tmp = [x for x in [f\"{items[:4].lower()}_{items[4]}\" for items in nc_no_emb] if x not in extra]\n",
    "extra = list(set(tmp))\n",
    "print(len(extra))"
   ]
  },
  {
   "cell_type": "code",
   "execution_count": null,
   "metadata": {},
   "outputs": [],
   "source": [
    "with open('tmp.fasta', 'w+') as f:\n",
    "    for element in tqdm(extra):    \n",
    "        records = SeqIO.parse('./pdb_seqres.txt', 'fasta')\n",
    "        for record in records:\n",
    "            if element in record.id:\n",
    "                f.write(f'>{record.id}n')\n",
    "                f.write(f'{record.seq}n')\n",
    "!esm-extract esm2_t33_650M_UR50D tmp.fasta ./emb_nc_extra/ --include per_tok"
   ]
  },
  {
   "attachments": {},
   "cell_type": "markdown",
   "metadata": {},
   "source": [
    "Some PU don't have their source sequence in the database. In this case, we won't be using PUs associated to these sequences."
   ]
  },
  {
   "cell_type": "code",
   "execution_count": null,
   "metadata": {},
   "outputs": [],
   "source": [
    "l = os.listdir(\"./emb_nc_extra/\")\n",
    "nc_emb_miss = [file for file in extra if not any(file in emb for emb in l)]\n",
    "len(nc_emb_miss)"
   ]
  },
  {
   "attachments": {},
   "cell_type": "markdown",
   "metadata": {},
   "source": [
    "4) Finally, generate padded for PU left over"
   ]
  },
  {
   "cell_type": "code",
   "execution_count": null,
   "metadata": {},
   "outputs": [],
   "source": [
    "for filename in tqdm(nc_no_emb): #List of PU without embedding generated previously\n",
    "    name = filename.split('_')[0][:-1].lower() # To match embedding file name : 2X6WA_27_175_199 in nc_data -> 2x6w* in embedding file\n",
    "    for file in glob.glob(f'/home/arnaud/projet_long/emb_nc_extra/{name}*'):\n",
    "        save = \"/home/arnaud/projet_long/dataset/noncore/\"\n",
    "        nc_start = int(filename.split('_')[-2])\n",
    "        nc_end = int(filename.split('_')[-1])\n",
    "        data_gen(file, save, filename, nc_start, nc_end)"
   ]
  },
  {
   "attachments": {},
   "cell_type": "markdown",
   "metadata": {},
   "source": [
    "# Dataset preparation"
   ]
  },
  {
   "attachments": {},
   "cell_type": "markdown",
   "metadata": {},
   "source": [
    "## Creation of test dataset"
   ]
  },
  {
   "cell_type": "code",
   "execution_count": 4,
   "metadata": {},
   "outputs": [],
   "source": [
    "import shutil\n",
    "path = '/home/arnaud/projet_long/dataset/core'\n",
    "core_list = os.listdir(path)\n",
    "coef = int((len(core_list)+1)*.3)\n",
    "for core in core_list:\n",
    "    data_list = [f\"core/{core}/{data}\" for data in os.listdir(os.path.join(path, core))]\n",
    "    random.shuffle(data_list)\n",
    "    path_target = f'/home/arnaud/projet_long/dataset/core_test/{core}/'\n",
    "    for element in data_list[:coef]:\n",
    "        if not os.path.exists(path_target):\n",
    "            os.makedirs(path_target)\n",
    "        shutil.copy(element, path_target)"
   ]
  },
  {
   "cell_type": "code",
   "execution_count": null,
   "metadata": {},
   "outputs": [],
   "source": [
    "path_target = '/home/arnaud/projet_long/dataset/noncore_test'\n",
    "nc_path = '/home/arnaud/projet_long/dataset/noncore'\n",
    "nc_list = [f\"noncore_test/{data}\" for data in os.listdir(nc_path)]\n",
    "coef = int((len(nc_list)+1)*.5)\n",
    "random.shuffle(nc_list)\n",
    "for element in nc_list[:coef]:\n",
    "    shutil.copy(element, path_target)"
   ]
  },
  {
   "attachments": {},
   "cell_type": "markdown",
   "metadata": {},
   "source": [
    "## List preparation"
   ]
  },
  {
   "cell_type": "code",
   "execution_count": 2,
   "metadata": {},
   "outputs": [],
   "source": [
    "def split_data(split_coeff, data_list, train_data, test_data, val_data):\n",
    "    data_split = int((len(data_list))*split_coeff)\n",
    "    test_data += data_list[data_split:]\n",
    "\n",
    "    tmp_train_data = data_list[:data_split] # 80% of initial data\n",
    "    train_split = int(len(tmp_train_data)*split_coeff)\n",
    "\n",
    "    train_data += tmp_train_data[:train_split]\n",
    "    val_data += tmp_train_data[train_split:]\n",
    "    return train_data, test_data, val_data"
   ]
  },
  {
   "attachments": {},
   "cell_type": "markdown",
   "metadata": {},
   "source": [
    "Select 80% of data of each PU protofold for training and remaining 20% for test, and further split the initial 80% of training data into 80/20 for training and validation. The overall percentage of initial data will be :\n",
    "- 64% for training\n",
    "- 20% for testing\n",
    "- 16% for validation"
   ]
  },
  {
   "cell_type": "code",
   "execution_count": 3,
   "metadata": {},
   "outputs": [],
   "source": [
    "data_count = {}\n",
    "train_data, test_data, val_data = [], [], []\n",
    "path = '/home/arnaud/projet_long/dataset/test'\n",
    "core_list = os.listdir(path)\n",
    "split_coeff = .8\n",
    "for core in core_list:\n",
    "    if core == \"save\":\n",
    "        pass\n",
    "    else:\n",
    "        data_list = [f\"core/{core}/{data}\" for data in os.listdir(os.path.join(path, core))]\n",
    "        random.shuffle(data_list)\n",
    "        split_data(split_coeff, data_list, train_data, test_data, val_data)\n",
    "        data_count[core] = len(data_list)"
   ]
  },
  {
   "cell_type": "code",
   "execution_count": 12,
   "metadata": {},
   "outputs": [],
   "source": [
    "nc_path = '/home/arnaud/projet_long/dataset/noncore'\n",
    "tmp_list = [f\"noncore/{data}\" for data in os.listdir(nc_path)]\n",
    "random.shuffle(tmp_list)\n",
    "nc_list = tmp_list[:20000] # Trop de données non cores, sélection aléatoire de 1500\n",
    "split_data(split_coeff, nc_list, train_data, test_data, val_data)\n",
    "data_count['noncore'] = len(nc_list)"
   ]
  },
  {
   "attachments": {},
   "cell_type": "markdown",
   "metadata": {},
   "source": [
    "### Details on data generated"
   ]
  },
  {
   "cell_type": "code",
   "execution_count": 116,
   "metadata": {},
   "outputs": [
    {
     "name": "stdout",
     "output_type": "stream",
     "text": [
      "After splitting data between train/test dataset :\n",
      "Train dataset contains 194 PUs\n",
      "Test dataset contains 62 PUs\n",
      "Val dataset contains 50 PUs\n"
     ]
    }
   ],
   "source": [
    "print(f\"After splitting data between train/test dataset :\\nTrain dataset contains {len(train_data)} PUs\\nTest dataset contains {len(test_data)} PUs\\nVal dataset contains {len(val_data)} PUs\")"
   ]
  },
  {
   "cell_type": "code",
   "execution_count": 6,
   "metadata": {},
   "outputs": [
    {
     "name": "stdout",
     "output_type": "stream",
     "text": [
      "Total is 38180 PUs\n",
      "Train percentage = 63% of total PUs\n",
      "Test percentage = 20% of total PUs\n",
      "Val percentage = 16% of total PUs\n"
     ]
    }
   ],
   "source": [
    "a = len(train_data) + len(test_data) + len(val_data)\n",
    "print(f\"Total is {a} PUs\")\n",
    "print(f\"Train percentage = {round(len(train_data)*100/a)}% of total PUs\")\n",
    "print(f\"Test percentage = {round(len(test_data)*100/a)}% of total PUs\")\n",
    "print(f\"Val percentage = {round(len(val_data)*100/a)}% of total PUs\")"
   ]
  },
  {
   "cell_type": "code",
   "execution_count": 27,
   "metadata": {},
   "outputs": [
    {
     "data": {
      "image/png": "[encoded data removed]",
      "text/plain": [
       "<Figure size 1500x700 with 1 Axes>"
      ]
     },
     "metadata": {},
     "output_type": "display_data"
    }
   ],
   "source": [
    "pu = [key for key, value in sorted(data_count.items(), key=lambda x: x[1], reverse=True) if key != 'noncore']\n",
    "value = [value for key, value in sorted(data_count.items(), key=lambda x: x[1], reverse=True) if key != 'noncore']\n",
    "\n",
    "plt.figure(figsize=(15,7))\n",
    "plt.bar(range(len(data_count)-1), value, tick_label = pu)\n",
    "plt.margins(x=0.005)\n",
    "plt.yticks(size = 10)\n",
    "plt.xticks(size = 5, rotation = 90)\n",
    "plt.xlabel(\"Protofold classes\", size = 10)\n",
    "plt.ylabel(\"Number of PUs\", size = 10)\n",
    "plt.title(f\"Barplot of core PUs data, n_class = {len(data_count.keys())-1}\", size = 10)\n",
    "plt.show()"
   ]
  },
  {
   "attachments": {},
   "cell_type": "markdown",
   "metadata": {},
   "source": [
    "Because the discrepancy between groups is high, classes will be merged according to protofold ID (35.g219 will be merged with all \"g219\" classes) and ID with less than 200 samples will be excluded"
   ]
  },
  {
   "cell_type": "code",
   "execution_count": 28,
   "metadata": {},
   "outputs": [],
   "source": [
    "tmp_merge = {}\n",
    "for key, value in data_count.items():\n",
    "    try:\n",
    "        prefix, suffix = key.split('.')\n",
    "        if suffix in tmp_merge:\n",
    "            tmp_merge[suffix] += value\n",
    "        else:\n",
    "            tmp_merge[suffix] = value\n",
    "    except:\n",
    "        tmp_merge[key] = value\n",
    "\n",
    "df_merge = pd.DataFrame.from_dict(tmp_merge, orient=\"index\")\n",
    "df_merge = df_merge[df_merge >= 200]\n",
    "df_merge = df_merge.dropna()\n",
    "merged_data = df_merge.to_dict()[0]\n",
    "\n",
    "train_data = [x for x in train_data if x.split('/')[-2].split(\".\")[-1] in merged_data.keys()]\n",
    "test_data = [x for x in test_data if x.split('/')[-2].split(\".\")[-1] in merged_data.keys()]\n",
    "val_data = [x for x in val_data if x.split('/')[-2].split(\".\")[-1] in merged_data.keys()]"
   ]
  },
  {
   "cell_type": "code",
   "execution_count": 30,
   "metadata": {},
   "outputs": [
    {
     "data": {
      "image/png": "[encoded data removed]",
      "text/plain": [
       "<Figure size 1500x700 with 1 Axes>"
      ]
     },
     "metadata": {},
     "output_type": "display_data"
    }
   ],
   "source": [
    "# One hot encoding of merged data\n",
    "class_encoding = {}\n",
    "for i, (key, value) in enumerate(merged_data.items()):\n",
    "    class_encoding[key] = i\n",
    "\n",
    "pu = [key for key, _ in sorted(merged_data.items(), key=lambda x: x[1], reverse=True) if key != 'noncore']\n",
    "value = [value for key, value in sorted(merged_data.items(), key=lambda x: x[1], reverse=True) if key != 'noncore']\n",
    "\n",
    "plt.figure(figsize=(15,7))\n",
    "plt.bar(range(len(merged_data)-1), value, tick_label = pu)\n",
    "plt.margins(x=0.005)\n",
    "plt.yticks(size = 10)\n",
    "plt.xticks(size = 9, rotation = 90)\n",
    "plt.xlabel(\"Protofold classes\", size = 10)\n",
    "plt.ylabel(\"Number of PUs\", size = 10)\n",
    "plt.title(f\"Barplot of core PUs data after merging, n_class = {len(merged_data.keys())-1} + non core\", size = 10)\n",
    "plt.show()"
   ]
  },
  {
   "attachments": {},
   "cell_type": "markdown",
   "metadata": {},
   "source": [
    "### Adjust weight"
   ]
  },
  {
   "attachments": {},
   "cell_type": "markdown",
   "metadata": {},
   "source": [
    "Adjust class weight base of classification used :"
   ]
  },
  {
   "cell_type": "code",
   "execution_count": null,
   "metadata": {},
   "outputs": [],
   "source": [
    "sorted(data_count.items(), key=lambda x: x[1], reverse=True)"
   ]
  },
  {
   "attachments": {},
   "cell_type": "markdown",
   "metadata": {},
   "source": [
    "Class with highest number of samples except for non core is '35.g219'. This class will then be compared to order class and its weight will be adjusted according to length of dataset. For this classification, \"noncore\" will not be used because of the high number of samples in its class"
   ]
  },
  {
   "cell_type": "code",
   "execution_count": 10,
   "metadata": {},
   "outputs": [
    {
     "name": "stdout",
     "output_type": "stream",
     "text": [
      "Weight of class 35.g219 is : 23.55\n",
      "Weight of other class is : 0.68\n"
     ]
    },
    {
     "data": {
      "image/png": "[encoded data removed]",
      "text/plain": [
       "<Figure size 300x500 with 1 Axes>"
      ]
     },
     "metadata": {},
     "output_type": "display_data"
    }
   ],
   "source": [
    "# For binary classification, we specify the class to compare\n",
    "\n",
    "class_classif = '35.g219'\n",
    "weight_classif = round(len(train_data)/data_count[class_classif], 2)\n",
    "sum_nonclassif = sum(value for key, value in data_count.items() if key not in [class_classif, \"noncore\"])\n",
    "weight_nonclassif = round(len(train_data)/sum_nonclassif, 2)\n",
    "class_weights = {0 : weight_nonclassif, 1 : weight_classif}\n",
    "print(f\"Weight of class {class_classif} is : {weight_classif}\\nWeight of other class is : {weight_nonclassif}\")\n",
    "\n",
    "binary_key = [class_classif, 'Others']\n",
    "binary_value = [data_count[class_classif], sum_nonclassif]\n",
    "\n",
    "plt.figure(figsize=(3, 5))\n",
    "plt.bar(binary_key, binary_value, tick_label = binary_key)\n",
    "plt.yticks(size = 8)\n",
    "plt.xlabel(f\" {class_classif} / Others\", size = 8)\n",
    "plt.ylabel(\"Number of PUs\", size = 8)\n",
    "plt.title(f\"Barplot of {class_classif} / Others\", size = 8)\n",
    "plt.show()"
   ]
  },
  {
   "attachments": {},
   "cell_type": "markdown",
   "metadata": {},
   "source": [
    "## Adjusted data (50 highest sample number)"
   ]
  },
  {
   "cell_type": "code",
   "execution_count": 3,
   "metadata": {},
   "outputs": [],
   "source": [
    "nc_path = '/home/arnaud/projet_long/dataset/noncore'\n",
    "tmp_list = [f\"noncore/{data}\" for data in os.listdir(nc_path)]\n",
    "random.shuffle(tmp_list)\n",
    "nc_list = tmp_list[:12000]"
   ]
  },
  {
   "cell_type": "code",
   "execution_count": 90,
   "metadata": {},
   "outputs": [
    {
     "name": "stderr",
     "output_type": "stream",
     "text": [
      "100%|██████████| 12000/12000 [00:37<00:00, 316.44it/s]\n"
     ]
    }
   ],
   "source": [
    "import shutil\n",
    "\n",
    "for core in trim_data.keys():\n",
    "    if core == \"noncore\":\n",
    "        if not os.path.exists(f\"/home/arnaud/projet_long/dataset/gelly/noncore\"):\n",
    "            os.makedirs(f\"/home/arnaud/projet_long/dataset/gelly/noncore\")\n",
    "        for element in tqdm(nc_list):\n",
    "            path_source = f\"./{element}\"\n",
    "            path_target = f\"/home/arnaud/projet_long/dataset/gelly/{element}\"\n",
    "            shutil.copy(path_source, path_target)\n",
    "            \n",
    "    else:\n",
    "        # list_path = os.listdir(f\"/home/arnaud/projet_long/dataset/core/{core}\")\n",
    "        # for element in list_path:\n",
    "        #     path_source = f\"./core/{core}/{element}\"\n",
    "        #     path_target = f\"./gelly/{core}/{element}\"\n",
    "    \n",
    "        #     if not os.path.exists(f\"/home/arnaud/projet_long/dataset/gelly/{core}\"):\n",
    "        #         os.makedirs(f\"/home/arnaud/projet_long/dataset/gelly/{core}\")\n",
    "            \n",
    "        #     shutil.copy(path_source, path_target)\n",
    "        pass\n",
    "    "
   ]
  },
  {
   "cell_type": "code",
   "execution_count": 11,
   "metadata": {},
   "outputs": [],
   "source": [
    "trim_data = {}\n",
    "train_trim_data, test_trim_data, val_trim_data = [], [], []\n",
    "path = '/home/arnaud/projet_long/dataset/arnaud_data'\n",
    "core_list = os.listdir(path)\n",
    "split_coeff = .8\n",
    "for core in core_list:\n",
    "    trim_list = [f\"arnaud_data/{core}/{data}\" for data in os.listdir(os.path.join(path, core))]\n",
    "    random.shuffle(trim_list)\n",
    "    split_data(split_coeff, trim_list, train_trim_data, test_trim_data, val_trim_data)\n",
    "    trim_data[core] = len(trim_list)"
   ]
  },
  {
   "cell_type": "code",
   "execution_count": 6,
   "metadata": {},
   "outputs": [
    {
     "data": {
      "image/png": "[encoded data removed]",
      "text/plain": [
       "<Figure size 1500x700 with 1 Axes>"
      ]
     },
     "metadata": {},
     "output_type": "display_data"
    }
   ],
   "source": [
    "pu = [key for key, _ in sorted(trim_data.items(), key=lambda x: x[1], reverse=True) if key != 'noncore']\n",
    "value = [value for key, value in sorted(trim_data.items(), key=lambda x: x[1], reverse=True) if key != 'noncore']\n",
    "\n",
    "plt.figure(figsize=(15,7))\n",
    "plt.bar(range(len(trim_data)-1), value, tick_label = pu)\n",
    "plt.margins(x=0.005)\n",
    "plt.yticks(size = 10)\n",
    "plt.xlabel(\"Protofold classes\", size = 10)\n",
    "plt.xticks(size = 9, rotation = 90)\n",
    "plt.ylabel(\"Number of PUs\", size = 10)\n",
    "plt.title(f\"Barplot of core PUs data after merging, n_class = {len(trim_data.keys())-1} + non core\", size = 10)\n",
    "plt.show()"
   ]
  },
  {
   "cell_type": "code",
   "execution_count": 7,
   "metadata": {},
   "outputs": [
    {
     "name": "stdout",
     "output_type": "stream",
     "text": [
      "After splitting data between train/test dataset :\n",
      "Train dataset contains 20053 PUs, 64% of total PUs\n",
      "Test dataset contains 6298 PUs, 20% of total PUs\n",
      "Val dataset contains 5036 PUs, 16% of total PUs\n"
     ]
    }
   ],
   "source": [
    "a = len(train_trim_data) + len(test_trim_data) + len(val_trim_data)\n",
    "print(f\"After splitting data between train/test dataset :\\nTrain dataset contains {len(train_trim_data)} PUs, {round(len(train_trim_data)*100/a)}% of total PUs\\nTest dataset contains {len(test_trim_data)} PUs, {round(len(test_trim_data)*100/a)}% of total PUs\\nVal dataset contains {len(val_trim_data)} PUs, {round(len(val_trim_data)*100/a)}% of total PUs\")"
   ]
  },
  {
   "cell_type": "code",
   "execution_count": 94,
   "metadata": {},
   "outputs": [
    {
     "name": "stdout",
     "output_type": "stream",
     "text": [
      "Weight of class noncore is : 1.67\n",
      "Weight of other class is : 1.03\n",
      "12000\n",
      "19387\n"
     ]
    },
    {
     "data": {
      "image/png": "[encoded data removed]",
      "text/plain": [
       "<Figure size 300x500 with 1 Axes>"
      ]
     },
     "metadata": {},
     "output_type": "display_data"
    }
   ],
   "source": [
    "class_classif = 'noncore'\n",
    "weight_classif = round(len(train_trim_data)/trim_data[class_classif], 2)\n",
    "sum_nonclassif = sum(value for key, value in trim_data.items() if key != \"noncore\")\n",
    "weight_nonclassif = round(len(train_trim_data)/sum_nonclassif, 2)\n",
    "class_weights = {0 : weight_classif, 1 : weight_nonclassif}\n",
    "print(f\"Weight of class {class_classif} is : {weight_classif}\\nWeight of other class is : {weight_nonclassif}\")\n",
    "print(f\"{trim_data[class_classif]}\\n{sum_nonclassif}\")\n",
    "\n",
    "binary_key = [class_classif, 'core PU']\n",
    "binary_value = [trim_data[class_classif], sum_nonclassif]\n",
    "\n",
    "plt.figure(figsize=(3, 5))\n",
    "plt.bar(binary_key, binary_value, tick_label = binary_key)\n",
    "plt.yticks(size = 8)\n",
    "plt.xlabel(f\" {class_classif} / Others\", size = 8)\n",
    "plt.ylabel(\"Number of PUs\", size = 8)\n",
    "plt.title(f\"Barplot of noncore/core\", size = 8)\n",
    "plt.show()"
   ]
  },
  {
   "attachments": {},
   "cell_type": "markdown",
   "metadata": {},
   "source": [
    "# Network application"
   ]
  },
  {
   "attachments": {},
   "cell_type": "markdown",
   "metadata": {},
   "source": [
    "For data : \n",
    "- data_count.keys() containing all protofold classes\n",
    "- train_data and test_data containing list of files for the generator"
   ]
  },
  {
   "cell_type": "code",
   "execution_count": 15,
   "metadata": {},
   "outputs": [
    {
     "name": "stdout",
     "output_type": "stream",
     "text": [
      "60\n"
     ]
    }
   ],
   "source": [
    "for file in train_trim_data[:1]:\n",
    "    data = pd.read_csv(file, header=None).values\n",
    "    print(data.shape[0])"
   ]
  },
  {
   "cell_type": "code",
   "execution_count": 9,
   "metadata": {},
   "outputs": [],
   "source": [
    "def data_generator(files, batch_size, num_classes, method, class_classification = None):\n",
    "    num_files = len(files)\n",
    "    \n",
    "    while True:\n",
    "        np.random.shuffle(files)\n",
    "        for i in range(0, num_files, batch_size):\n",
    "            batch_files = files[i:i+batch_size]\n",
    "            batch_data = []\n",
    "            batch_labels = []\n",
    "            for file in batch_files:\n",
    "                data = pd.read_csv(file, header=None).values\n",
    "                label = file.split('/')[-2]\n",
    "                if method == \"binary\":\n",
    "                    if label == \"noncore\":\n",
    "                        batch_labels.append(0)\n",
    "                        batch_data.append(data)\n",
    "                    else:\n",
    "                        batch_labels.append(1)\n",
    "                        batch_data.append(data)\n",
    "                elif method == \"categorical_merge\":\n",
    "                    merged_label = label.split('.')[-1]\n",
    "                    batch_labels.append(class_encoding[merged_label])\n",
    "                    batch_data.append(data)\n",
    "                elif method == \"categorical\":\n",
    "                    batch_labels.append(class_encoding[label])\n",
    "                    batch_data.append(data)\n",
    "                    \n",
    "            batch_data = np.array(batch_data)\n",
    "            if method == \"binary\":\n",
    "                batch_labels = np.array(batch_labels)\n",
    "                batch_labels = to_categorical(batch_labels, 2)\n",
    "            else:\n",
    "                batch_labels = np.array(batch_labels)\n",
    "                batch_labels = to_categorical(batch_labels, num_classes)\n",
    "\n",
    "            \n",
    "            yield batch_data, batch_labels"
   ]
  },
  {
   "cell_type": "code",
   "execution_count": 16,
   "metadata": {},
   "outputs": [],
   "source": [
    "early_stopping_callback = EarlyStopping(\n",
    "    monitor='val_loss',\n",
    "    patience = 5,\n",
    "    mode = 'min',\n",
    "    verbose = 1)"
   ]
  },
  {
   "attachments": {},
   "cell_type": "markdown",
   "metadata": {},
   "source": [
    "## Binary"
   ]
  },
  {
   "cell_type": "code",
   "execution_count": 126,
   "metadata": {},
   "outputs": [],
   "source": [
    "#For binary classification\n",
    "\n",
    "batch_size = 64\n",
    "num_classes = 2\n",
    "\n",
    "random.shuffle(train_trim_data)\n",
    "random.shuffle(val_trim_data)\n",
    "random.shuffle(test_trim_data)\n",
    "train_bin_generator = data_generator(train_trim_data, batch_size, num_classes, method = \"binary\", class_classification = class_classif)\n",
    "val_bin_generator = data_generator(val_trim_data, batch_size, num_classes, method = \"binary\", class_classification = class_classif)\n",
    "test_bin_generator = data_generator(test_trim_data, batch_size, num_classes, method = \"binary\", class_classification = class_classif)"
   ]
  },
  {
   "cell_type": "code",
   "execution_count": 7,
   "metadata": {},
   "outputs": [],
   "source": [
    "#For binary classification\n",
    "\n",
    "batch_size = 64\n",
    "num_classes = 2\n",
    "class_classif = \"noncore\"\n",
    "random.shuffle(train_data)\n",
    "random.shuffle(val_data)\n",
    "random.shuffle(test_data)\n",
    "train_bin_generator = data_generator(train_data, batch_size, num_classes, method = \"binary\", class_classification = class_classif)\n",
    "val_bin_generator = data_generator(val_data, batch_size, num_classes, method = \"binary\", class_classification = class_classif)\n",
    "test_bin_generator = data_generator(test_data, batch_size, num_classes, method = \"binary\", class_classification = class_classif)"
   ]
  },
  {
   "cell_type": "code",
   "execution_count": 17,
   "metadata": {},
   "outputs": [
    {
     "name": "stdout",
     "output_type": "stream",
     "text": [
      "Model: \"sequential_2\"\n",
      "_________________________________________________________________\n",
      " Layer (type)                Output Shape              Param #   \n",
      "=================================================================\n",
      " gru_4 (GRU)                 (None, 60, 64)            258432    \n",
      "                                                                 \n",
      " gru_5 (GRU)                 (None, 64)                24960     \n",
      "                                                                 \n",
      " dense_2 (Dense)             (None, 1)                 65        \n",
      "                                                                 \n",
      "=================================================================\n",
      "Total params: 283,457\n",
      "Trainable params: 283,457\n",
      "Non-trainable params: 0\n",
      "_________________________________________________________________\n"
     ]
    },
    {
     "name": "stderr",
     "output_type": "stream",
     "text": [
      "2023-05-31 23:06:14.861963: I tensorflow/core/common_runtime/executor.cc:1197] [/device:CPU:0] (DEBUG INFO) Executor start aborting (this does not indicate an error and you can ignore this message): INVALID_ARGUMENT: You must feed a value for placeholder tensor 'gradients/split_2_grad/concat/split_2/split_dim' with dtype int32\n",
      "\t [[{{node gradients/split_2_grad/concat/split_2/split_dim}}]]\n",
      "2023-05-31 23:06:14.863062: I tensorflow/core/common_runtime/executor.cc:1197] [/device:CPU:0] (DEBUG INFO) Executor start aborting (this does not indicate an error and you can ignore this message): INVALID_ARGUMENT: You must feed a value for placeholder tensor 'gradients/split_grad/concat/split/split_dim' with dtype int32\n",
      "\t [[{{node gradients/split_grad/concat/split/split_dim}}]]\n",
      "2023-05-31 23:06:14.864461: I tensorflow/core/common_runtime/executor.cc:1197] [/device:CPU:0] (DEBUG INFO) Executor start aborting (this does not indicate an error and you can ignore this message): INVALID_ARGUMENT: You must feed a value for placeholder tensor 'gradients/split_1_grad/concat/split_1/split_dim' with dtype int32\n",
      "\t [[{{node gradients/split_1_grad/concat/split_1/split_dim}}]]\n",
      "2023-05-31 23:06:14.972644: I tensorflow/core/common_runtime/executor.cc:1197] [/device:CPU:0] (DEBUG INFO) Executor start aborting (this does not indicate an error and you can ignore this message): INVALID_ARGUMENT: You must feed a value for placeholder tensor 'gradients/split_2_grad/concat/split_2/split_dim' with dtype int32\n",
      "\t [[{{node gradients/split_2_grad/concat/split_2/split_dim}}]]\n",
      "2023-05-31 23:06:14.973607: I tensorflow/core/common_runtime/executor.cc:1197] [/device:CPU:0] (DEBUG INFO) Executor start aborting (this does not indicate an error and you can ignore this message): INVALID_ARGUMENT: You must feed a value for placeholder tensor 'gradients/split_grad/concat/split/split_dim' with dtype int32\n",
      "\t [[{{node gradients/split_grad/concat/split/split_dim}}]]\n",
      "2023-05-31 23:06:14.974544: I tensorflow/core/common_runtime/executor.cc:1197] [/device:CPU:0] (DEBUG INFO) Executor start aborting (this does not indicate an error and you can ignore this message): INVALID_ARGUMENT: You must feed a value for placeholder tensor 'gradients/split_1_grad/concat/split_1/split_dim' with dtype int32\n",
      "\t [[{{node gradients/split_1_grad/concat/split_1/split_dim}}]]\n"
     ]
    }
   ],
   "source": [
    "def gru_binary(learn_rate):\n",
    "    model = Sequential()\n",
    "    model.add(GRU(64, input_shape=(60, 1280), return_sequences=True))\n",
    "    model.add(GRU(64))\n",
    "    model.add(Dense(1, activation='softmax'))\n",
    "\n",
    "    # optimizer = Adam(learning_rate=learn_rate)\n",
    "    model.compile(optimizer=\"adam\", loss='binary_crossentropy', metrics=['accuracy'])\n",
    "    return model\n",
    "\n",
    "\n",
    "learn_rate = 1e-4\n",
    "model = gru_binary(learn_rate)\n",
    "model.summary()"
   ]
  },
  {
   "cell_type": "code",
   "execution_count": 15,
   "metadata": {},
   "outputs": [
    {
     "name": "stdout",
     "output_type": "stream",
     "text": [
      "Epoch 1/2\n"
     ]
    },
    {
     "name": "stderr",
     "output_type": "stream",
     "text": [
      "2023-05-31 23:04:03.436657: I tensorflow/core/common_runtime/executor.cc:1197] [/device:CPU:0] (DEBUG INFO) Executor start aborting (this does not indicate an error and you can ignore this message): INVALID_ARGUMENT: You must feed a value for placeholder tensor 'Placeholder/_0' with dtype int32\n",
      "\t [[{{node Placeholder/_0}}]]\n",
      "2023-05-31 23:04:03.544563: I tensorflow/core/common_runtime/executor.cc:1197] [/device:CPU:0] (DEBUG INFO) Executor start aborting (this does not indicate an error and you can ignore this message): INVALID_ARGUMENT: You must feed a value for placeholder tensor 'gradients/split_2_grad/concat/split_2/split_dim' with dtype int32\n",
      "\t [[{{node gradients/split_2_grad/concat/split_2/split_dim}}]]\n",
      "2023-05-31 23:04:03.545797: I tensorflow/core/common_runtime/executor.cc:1197] [/device:CPU:0] (DEBUG INFO) Executor start aborting (this does not indicate an error and you can ignore this message): INVALID_ARGUMENT: You must feed a value for placeholder tensor 'gradients/split_grad/concat/split/split_dim' with dtype int32\n",
      "\t [[{{node gradients/split_grad/concat/split/split_dim}}]]\n",
      "2023-05-31 23:04:03.546755: I tensorflow/core/common_runtime/executor.cc:1197] [/device:CPU:0] (DEBUG INFO) Executor start aborting (this does not indicate an error and you can ignore this message): INVALID_ARGUMENT: You must feed a value for placeholder tensor 'gradients/split_1_grad/concat/split_1/split_dim' with dtype int32\n",
      "\t [[{{node gradients/split_1_grad/concat/split_1/split_dim}}]]\n",
      "2023-05-31 23:04:03.642167: I tensorflow/core/common_runtime/executor.cc:1197] [/device:CPU:0] (DEBUG INFO) Executor start aborting (this does not indicate an error and you can ignore this message): INVALID_ARGUMENT: You must feed a value for placeholder tensor 'gradients/split_2_grad/concat/split_2/split_dim' with dtype int32\n",
      "\t [[{{node gradients/split_2_grad/concat/split_2/split_dim}}]]\n",
      "2023-05-31 23:04:03.643106: I tensorflow/core/common_runtime/executor.cc:1197] [/device:CPU:0] (DEBUG INFO) Executor start aborting (this does not indicate an error and you can ignore this message): INVALID_ARGUMENT: You must feed a value for placeholder tensor 'gradients/split_grad/concat/split/split_dim' with dtype int32\n",
      "\t [[{{node gradients/split_grad/concat/split/split_dim}}]]\n",
      "2023-05-31 23:04:03.644290: I tensorflow/core/common_runtime/executor.cc:1197] [/device:CPU:0] (DEBUG INFO) Executor start aborting (this does not indicate an error and you can ignore this message): INVALID_ARGUMENT: You must feed a value for placeholder tensor 'gradients/split_1_grad/concat/split_1/split_dim' with dtype int32\n",
      "\t [[{{node gradients/split_1_grad/concat/split_1/split_dim}}]]\n",
      "2023-05-31 23:04:04.192427: I tensorflow/core/common_runtime/executor.cc:1197] [/device:CPU:0] (DEBUG INFO) Executor start aborting (this does not indicate an error and you can ignore this message): INVALID_ARGUMENT: You must feed a value for placeholder tensor 'gradients/split_2_grad/concat/split_2/split_dim' with dtype int32\n",
      "\t [[{{node gradients/split_2_grad/concat/split_2/split_dim}}]]\n",
      "2023-05-31 23:04:04.193377: I tensorflow/core/common_runtime/executor.cc:1197] [/device:CPU:0] (DEBUG INFO) Executor start aborting (this does not indicate an error and you can ignore this message): INVALID_ARGUMENT: You must feed a value for placeholder tensor 'gradients/split_grad/concat/split/split_dim' with dtype int32\n",
      "\t [[{{node gradients/split_grad/concat/split/split_dim}}]]\n",
      "2023-05-31 23:04:04.195352: I tensorflow/core/common_runtime/executor.cc:1197] [/device:CPU:0] (DEBUG INFO) Executor start aborting (this does not indicate an error and you can ignore this message): INVALID_ARGUMENT: You must feed a value for placeholder tensor 'gradients/split_1_grad/concat/split_1/split_dim' with dtype int32\n",
      "\t [[{{node gradients/split_1_grad/concat/split_1/split_dim}}]]\n",
      "2023-05-31 23:04:04.292627: I tensorflow/core/common_runtime/executor.cc:1197] [/device:CPU:0] (DEBUG INFO) Executor start aborting (this does not indicate an error and you can ignore this message): INVALID_ARGUMENT: You must feed a value for placeholder tensor 'gradients/split_2_grad/concat/split_2/split_dim' with dtype int32\n",
      "\t [[{{node gradients/split_2_grad/concat/split_2/split_dim}}]]\n",
      "2023-05-31 23:04:04.293584: I tensorflow/core/common_runtime/executor.cc:1197] [/device:CPU:0] (DEBUG INFO) Executor start aborting (this does not indicate an error and you can ignore this message): INVALID_ARGUMENT: You must feed a value for placeholder tensor 'gradients/split_grad/concat/split/split_dim' with dtype int32\n",
      "\t [[{{node gradients/split_grad/concat/split/split_dim}}]]\n",
      "2023-05-31 23:04:04.294682: I tensorflow/core/common_runtime/executor.cc:1197] [/device:CPU:0] (DEBUG INFO) Executor start aborting (this does not indicate an error and you can ignore this message): INVALID_ARGUMENT: You must feed a value for placeholder tensor 'gradients/split_1_grad/concat/split_1/split_dim' with dtype int32\n",
      "\t [[{{node gradients/split_1_grad/concat/split_1/split_dim}}]]\n"
     ]
    },
    {
     "name": "stdout",
     "output_type": "stream",
     "text": [
      "3/3 [==============================] - ETA: 0s - loss: 0.6932 - accuracy: 0.5000 WARNING:tensorflow:Early stopping conditioned on metric `val_loss` which is not available. Available metrics are: loss,accuracy\n",
      "3/3 [==============================] - 38s 14s/step - loss: 0.6932 - accuracy: 0.5000\n",
      "Epoch 2/2\n"
     ]
    },
    {
     "name": "stderr",
     "output_type": "stream",
     "text": [
      "2023-05-31 23:04:41.528686: I tensorflow/core/common_runtime/executor.cc:1197] [/device:CPU:0] (DEBUG INFO) Executor start aborting (this does not indicate an error and you can ignore this message): INVALID_ARGUMENT: You must feed a value for placeholder tensor 'Placeholder/_0' with dtype int32\n",
      "\t [[{{node Placeholder/_0}}]]\n"
     ]
    },
    {
     "name": "stdout",
     "output_type": "stream",
     "text": [
      "3/3 [==============================] - ETA: 0s - loss: 0.6932 - accuracy: 0.5000WARNING:tensorflow:Early stopping conditioned on metric `val_loss` which is not available. Available metrics are: loss,accuracy\n",
      "3/3 [==============================] - 41s 13s/step - loss: 0.6932 - accuracy: 0.5000\n"
     ]
    }
   ],
   "source": [
    "steps_per_epoch = len(train_data) // batch_size\n",
    "val_bin_steps = len(val_data) // batch_size\n",
    "\n",
    "output_file = f\"./save/bin_adjusted_batch{batch_size}_lr{str(learn_rate).split('e')[-1]}.csv\"\n",
    "csv_logger = tf.keras.callbacks.CSVLogger(output_file)\n",
    "\n",
    "hist_model = model.fit(\n",
    "    train_bin_generator, \n",
    "    validation_data = val_bin_generator, \n",
    "    steps_per_epoch = steps_per_epoch, \n",
    "    validation_steps = val_bin_steps, \n",
    "    epochs = 2, \n",
    "    # class_weight = class_weights,\n",
    "    callbacks = [early_stopping_callback, csv_logger]\n",
    "    )"
   ]
  },
  {
   "cell_type": "code",
   "execution_count": 105,
   "metadata": {},
   "outputs": [
    {
     "name": "stdout",
     "output_type": "stream",
     "text": [
      "Epoch 1/40\n"
     ]
    },
    {
     "name": "stderr",
     "output_type": "stream",
     "text": [
      "2023-05-31 21:34:00.989022: I tensorflow/core/common_runtime/executor.cc:1197] [/device:CPU:0] (DEBUG INFO) Executor start aborting (this does not indicate an error and you can ignore this message): INVALID_ARGUMENT: You must feed a value for placeholder tensor 'Placeholder/_0' with dtype int32\n",
      "\t [[{{node Placeholder/_0}}]]\n"
     ]
    },
    {
     "name": "stdout",
     "output_type": "stream",
     "text": [
      " 42/313 [===>..........................] - ETA: 1:35:59 - loss: 0.6932 - accuracy: 0.5000"
     ]
    },
    {
     "ename": "KeyboardInterrupt",
     "evalue": "",
     "output_type": "error",
     "traceback": [
      "\u001b[0;31m---------------------------------------------------------------------------\u001b[0m",
      "\u001b[0;31mKeyboardInterrupt\u001b[0m                         Traceback (most recent call last)",
      "Cell \u001b[0;32mIn[105], line 7\u001b[0m\n\u001b[1;32m      4\u001b[0m output_file \u001b[39m=\u001b[39m \u001b[39mf\u001b[39m\u001b[39m\"\u001b[39m\u001b[39m./save/bin_adjusted_batch\u001b[39m\u001b[39m{\u001b[39;00mbatch_size\u001b[39m}\u001b[39;00m\u001b[39m_lr\u001b[39m\u001b[39m{\u001b[39;00m\u001b[39mstr\u001b[39m(learn_rate)\u001b[39m.\u001b[39msplit(\u001b[39m'\u001b[39m\u001b[39me\u001b[39m\u001b[39m'\u001b[39m)[\u001b[39m-\u001b[39m\u001b[39m1\u001b[39m]\u001b[39m}\u001b[39;00m\u001b[39m.csv\u001b[39m\u001b[39m\"\u001b[39m\n\u001b[1;32m      5\u001b[0m csv_logger \u001b[39m=\u001b[39m tf\u001b[39m.\u001b[39mkeras\u001b[39m.\u001b[39mcallbacks\u001b[39m.\u001b[39mCSVLogger(output_file)\n\u001b[0;32m----> 7\u001b[0m cat_model \u001b[39m=\u001b[39m gru_bin_model\u001b[39m.\u001b[39;49mfit(\n\u001b[1;32m      8\u001b[0m     train_bin_generator, \n\u001b[1;32m      9\u001b[0m     validation_data \u001b[39m=\u001b[39;49m val_bin_generator, \n\u001b[1;32m     10\u001b[0m     steps_per_epoch \u001b[39m=\u001b[39;49m steps_per_epoch, \n\u001b[1;32m     11\u001b[0m     validation_steps \u001b[39m=\u001b[39;49m val_bin_steps, \n\u001b[1;32m     12\u001b[0m     epochs \u001b[39m=\u001b[39;49m \u001b[39m40\u001b[39;49m, \n\u001b[1;32m     13\u001b[0m     \u001b[39m# class_weight = class_weights,\u001b[39;49;00m\n\u001b[1;32m     14\u001b[0m     callbacks \u001b[39m=\u001b[39;49m [early_stopping_callback, csv_logger]\n\u001b[1;32m     15\u001b[0m     )\n",
      "File \u001b[0;32m~/miniconda3/envs/projet_long/lib/python3.10/site-packages/keras/utils/traceback_utils.py:65\u001b[0m, in \u001b[0;36mfilter_traceback.<locals>.error_handler\u001b[0;34m(*args, **kwargs)\u001b[0m\n\u001b[1;32m     63\u001b[0m filtered_tb \u001b[39m=\u001b[39m \u001b[39mNone\u001b[39;00m\n\u001b[1;32m     64\u001b[0m \u001b[39mtry\u001b[39;00m:\n\u001b[0;32m---> 65\u001b[0m     \u001b[39mreturn\u001b[39;00m fn(\u001b[39m*\u001b[39;49margs, \u001b[39m*\u001b[39;49m\u001b[39m*\u001b[39;49mkwargs)\n\u001b[1;32m     66\u001b[0m \u001b[39mexcept\u001b[39;00m \u001b[39mException\u001b[39;00m \u001b[39mas\u001b[39;00m e:\n\u001b[1;32m     67\u001b[0m     filtered_tb \u001b[39m=\u001b[39m _process_traceback_frames(e\u001b[39m.\u001b[39m__traceback__)\n",
      "File \u001b[0;32m~/miniconda3/envs/projet_long/lib/python3.10/site-packages/keras/engine/training.py:1685\u001b[0m, in \u001b[0;36mModel.fit\u001b[0;34m(self, x, y, batch_size, epochs, verbose, callbacks, validation_split, validation_data, shuffle, class_weight, sample_weight, initial_epoch, steps_per_epoch, validation_steps, validation_batch_size, validation_freq, max_queue_size, workers, use_multiprocessing)\u001b[0m\n\u001b[1;32m   1677\u001b[0m \u001b[39mwith\u001b[39;00m tf\u001b[39m.\u001b[39mprofiler\u001b[39m.\u001b[39mexperimental\u001b[39m.\u001b[39mTrace(\n\u001b[1;32m   1678\u001b[0m     \u001b[39m\"\u001b[39m\u001b[39mtrain\u001b[39m\u001b[39m\"\u001b[39m,\n\u001b[1;32m   1679\u001b[0m     epoch_num\u001b[39m=\u001b[39mepoch,\n\u001b[0;32m   (...)\u001b[0m\n\u001b[1;32m   1682\u001b[0m     _r\u001b[39m=\u001b[39m\u001b[39m1\u001b[39m,\n\u001b[1;32m   1683\u001b[0m ):\n\u001b[1;32m   1684\u001b[0m     callbacks\u001b[39m.\u001b[39mon_train_batch_begin(step)\n\u001b[0;32m-> 1685\u001b[0m     tmp_logs \u001b[39m=\u001b[39m \u001b[39mself\u001b[39;49m\u001b[39m.\u001b[39;49mtrain_function(iterator)\n\u001b[1;32m   1686\u001b[0m     \u001b[39mif\u001b[39;00m data_handler\u001b[39m.\u001b[39mshould_sync:\n\u001b[1;32m   1687\u001b[0m         context\u001b[39m.\u001b[39masync_wait()\n",
      "File \u001b[0;32m~/miniconda3/envs/projet_long/lib/python3.10/site-packages/tensorflow/python/util/traceback_utils.py:150\u001b[0m, in \u001b[0;36mfilter_traceback.<locals>.error_handler\u001b[0;34m(*args, **kwargs)\u001b[0m\n\u001b[1;32m    148\u001b[0m filtered_tb \u001b[39m=\u001b[39m \u001b[39mNone\u001b[39;00m\n\u001b[1;32m    149\u001b[0m \u001b[39mtry\u001b[39;00m:\n\u001b[0;32m--> 150\u001b[0m   \u001b[39mreturn\u001b[39;00m fn(\u001b[39m*\u001b[39;49margs, \u001b[39m*\u001b[39;49m\u001b[39m*\u001b[39;49mkwargs)\n\u001b[1;32m    151\u001b[0m \u001b[39mexcept\u001b[39;00m \u001b[39mException\u001b[39;00m \u001b[39mas\u001b[39;00m e:\n\u001b[1;32m    152\u001b[0m   filtered_tb \u001b[39m=\u001b[39m _process_traceback_frames(e\u001b[39m.\u001b[39m__traceback__)\n",
      "File \u001b[0;32m~/miniconda3/envs/projet_long/lib/python3.10/site-packages/tensorflow/python/eager/polymorphic_function/polymorphic_function.py:894\u001b[0m, in \u001b[0;36mFunction.__call__\u001b[0;34m(self, *args, **kwds)\u001b[0m\n\u001b[1;32m    891\u001b[0m compiler \u001b[39m=\u001b[39m \u001b[39m\"\u001b[39m\u001b[39mxla\u001b[39m\u001b[39m\"\u001b[39m \u001b[39mif\u001b[39;00m \u001b[39mself\u001b[39m\u001b[39m.\u001b[39m_jit_compile \u001b[39melse\u001b[39;00m \u001b[39m\"\u001b[39m\u001b[39mnonXla\u001b[39m\u001b[39m\"\u001b[39m\n\u001b[1;32m    893\u001b[0m \u001b[39mwith\u001b[39;00m OptionalXlaContext(\u001b[39mself\u001b[39m\u001b[39m.\u001b[39m_jit_compile):\n\u001b[0;32m--> 894\u001b[0m   result \u001b[39m=\u001b[39m \u001b[39mself\u001b[39;49m\u001b[39m.\u001b[39;49m_call(\u001b[39m*\u001b[39;49margs, \u001b[39m*\u001b[39;49m\u001b[39m*\u001b[39;49mkwds)\n\u001b[1;32m    896\u001b[0m new_tracing_count \u001b[39m=\u001b[39m \u001b[39mself\u001b[39m\u001b[39m.\u001b[39mexperimental_get_tracing_count()\n\u001b[1;32m    897\u001b[0m without_tracing \u001b[39m=\u001b[39m (tracing_count \u001b[39m==\u001b[39m new_tracing_count)\n",
      "File \u001b[0;32m~/miniconda3/envs/projet_long/lib/python3.10/site-packages/tensorflow/python/eager/polymorphic_function/polymorphic_function.py:926\u001b[0m, in \u001b[0;36mFunction._call\u001b[0;34m(self, *args, **kwds)\u001b[0m\n\u001b[1;32m    923\u001b[0m   \u001b[39mself\u001b[39m\u001b[39m.\u001b[39m_lock\u001b[39m.\u001b[39mrelease()\n\u001b[1;32m    924\u001b[0m   \u001b[39m# In this case we have created variables on the first call, so we run the\u001b[39;00m\n\u001b[1;32m    925\u001b[0m   \u001b[39m# defunned version which is guaranteed to never create variables.\u001b[39;00m\n\u001b[0;32m--> 926\u001b[0m   \u001b[39mreturn\u001b[39;00m \u001b[39mself\u001b[39;49m\u001b[39m.\u001b[39;49m_no_variable_creation_fn(\u001b[39m*\u001b[39;49margs, \u001b[39m*\u001b[39;49m\u001b[39m*\u001b[39;49mkwds)  \u001b[39m# pylint: disable=not-callable\u001b[39;00m\n\u001b[1;32m    927\u001b[0m \u001b[39melif\u001b[39;00m \u001b[39mself\u001b[39m\u001b[39m.\u001b[39m_variable_creation_fn \u001b[39mis\u001b[39;00m \u001b[39mnot\u001b[39;00m \u001b[39mNone\u001b[39;00m:\n\u001b[1;32m    928\u001b[0m   \u001b[39m# Release the lock early so that multiple threads can perform the call\u001b[39;00m\n\u001b[1;32m    929\u001b[0m   \u001b[39m# in parallel.\u001b[39;00m\n\u001b[1;32m    930\u001b[0m   \u001b[39mself\u001b[39m\u001b[39m.\u001b[39m_lock\u001b[39m.\u001b[39mrelease()\n",
      "File \u001b[0;32m~/miniconda3/envs/projet_long/lib/python3.10/site-packages/tensorflow/python/eager/polymorphic_function/tracing_compiler.py:143\u001b[0m, in \u001b[0;36mTracingCompiler.__call__\u001b[0;34m(self, *args, **kwargs)\u001b[0m\n\u001b[1;32m    140\u001b[0m \u001b[39mwith\u001b[39;00m \u001b[39mself\u001b[39m\u001b[39m.\u001b[39m_lock:\n\u001b[1;32m    141\u001b[0m   (concrete_function,\n\u001b[1;32m    142\u001b[0m    filtered_flat_args) \u001b[39m=\u001b[39m \u001b[39mself\u001b[39m\u001b[39m.\u001b[39m_maybe_define_function(args, kwargs)\n\u001b[0;32m--> 143\u001b[0m \u001b[39mreturn\u001b[39;00m concrete_function\u001b[39m.\u001b[39;49m_call_flat(\n\u001b[1;32m    144\u001b[0m     filtered_flat_args, captured_inputs\u001b[39m=\u001b[39;49mconcrete_function\u001b[39m.\u001b[39;49mcaptured_inputs)\n",
      "File \u001b[0;32m~/miniconda3/envs/projet_long/lib/python3.10/site-packages/tensorflow/python/eager/polymorphic_function/monomorphic_function.py:1757\u001b[0m, in \u001b[0;36mConcreteFunction._call_flat\u001b[0;34m(self, args, captured_inputs, cancellation_manager)\u001b[0m\n\u001b[1;32m   1753\u001b[0m possible_gradient_type \u001b[39m=\u001b[39m gradients_util\u001b[39m.\u001b[39mPossibleTapeGradientTypes(args)\n\u001b[1;32m   1754\u001b[0m \u001b[39mif\u001b[39;00m (possible_gradient_type \u001b[39m==\u001b[39m gradients_util\u001b[39m.\u001b[39mPOSSIBLE_GRADIENT_TYPES_NONE\n\u001b[1;32m   1755\u001b[0m     \u001b[39mand\u001b[39;00m executing_eagerly):\n\u001b[1;32m   1756\u001b[0m   \u001b[39m# No tape is watching; skip to running the function.\u001b[39;00m\n\u001b[0;32m-> 1757\u001b[0m   \u001b[39mreturn\u001b[39;00m \u001b[39mself\u001b[39m\u001b[39m.\u001b[39m_build_call_outputs(\u001b[39mself\u001b[39;49m\u001b[39m.\u001b[39;49m_inference_function\u001b[39m.\u001b[39;49mcall(\n\u001b[1;32m   1758\u001b[0m       ctx, args, cancellation_manager\u001b[39m=\u001b[39;49mcancellation_manager))\n\u001b[1;32m   1759\u001b[0m forward_backward \u001b[39m=\u001b[39m \u001b[39mself\u001b[39m\u001b[39m.\u001b[39m_select_forward_and_backward_functions(\n\u001b[1;32m   1760\u001b[0m     args,\n\u001b[1;32m   1761\u001b[0m     possible_gradient_type,\n\u001b[1;32m   1762\u001b[0m     executing_eagerly)\n\u001b[1;32m   1763\u001b[0m forward_function, args_with_tangents \u001b[39m=\u001b[39m forward_backward\u001b[39m.\u001b[39mforward()\n",
      "File \u001b[0;32m~/miniconda3/envs/projet_long/lib/python3.10/site-packages/tensorflow/python/eager/polymorphic_function/monomorphic_function.py:381\u001b[0m, in \u001b[0;36m_EagerDefinedFunction.call\u001b[0;34m(self, ctx, args, cancellation_manager)\u001b[0m\n\u001b[1;32m    379\u001b[0m \u001b[39mwith\u001b[39;00m _InterpolateFunctionError(\u001b[39mself\u001b[39m):\n\u001b[1;32m    380\u001b[0m   \u001b[39mif\u001b[39;00m cancellation_manager \u001b[39mis\u001b[39;00m \u001b[39mNone\u001b[39;00m:\n\u001b[0;32m--> 381\u001b[0m     outputs \u001b[39m=\u001b[39m execute\u001b[39m.\u001b[39;49mexecute(\n\u001b[1;32m    382\u001b[0m         \u001b[39mstr\u001b[39;49m(\u001b[39mself\u001b[39;49m\u001b[39m.\u001b[39;49msignature\u001b[39m.\u001b[39;49mname),\n\u001b[1;32m    383\u001b[0m         num_outputs\u001b[39m=\u001b[39;49m\u001b[39mself\u001b[39;49m\u001b[39m.\u001b[39;49m_num_outputs,\n\u001b[1;32m    384\u001b[0m         inputs\u001b[39m=\u001b[39;49margs,\n\u001b[1;32m    385\u001b[0m         attrs\u001b[39m=\u001b[39;49mattrs,\n\u001b[1;32m    386\u001b[0m         ctx\u001b[39m=\u001b[39;49mctx)\n\u001b[1;32m    387\u001b[0m   \u001b[39melse\u001b[39;00m:\n\u001b[1;32m    388\u001b[0m     outputs \u001b[39m=\u001b[39m execute\u001b[39m.\u001b[39mexecute_with_cancellation(\n\u001b[1;32m    389\u001b[0m         \u001b[39mstr\u001b[39m(\u001b[39mself\u001b[39m\u001b[39m.\u001b[39msignature\u001b[39m.\u001b[39mname),\n\u001b[1;32m    390\u001b[0m         num_outputs\u001b[39m=\u001b[39m\u001b[39mself\u001b[39m\u001b[39m.\u001b[39m_num_outputs,\n\u001b[0;32m   (...)\u001b[0m\n\u001b[1;32m    393\u001b[0m         ctx\u001b[39m=\u001b[39mctx,\n\u001b[1;32m    394\u001b[0m         cancellation_manager\u001b[39m=\u001b[39mcancellation_manager)\n",
      "File \u001b[0;32m~/miniconda3/envs/projet_long/lib/python3.10/site-packages/tensorflow/python/eager/execute.py:52\u001b[0m, in \u001b[0;36mquick_execute\u001b[0;34m(op_name, num_outputs, inputs, attrs, ctx, name)\u001b[0m\n\u001b[1;32m     50\u001b[0m \u001b[39mtry\u001b[39;00m:\n\u001b[1;32m     51\u001b[0m   ctx\u001b[39m.\u001b[39mensure_initialized()\n\u001b[0;32m---> 52\u001b[0m   tensors \u001b[39m=\u001b[39m pywrap_tfe\u001b[39m.\u001b[39;49mTFE_Py_Execute(ctx\u001b[39m.\u001b[39;49m_handle, device_name, op_name,\n\u001b[1;32m     53\u001b[0m                                       inputs, attrs, num_outputs)\n\u001b[1;32m     54\u001b[0m \u001b[39mexcept\u001b[39;00m core\u001b[39m.\u001b[39m_NotOkStatusException \u001b[39mas\u001b[39;00m e:\n\u001b[1;32m     55\u001b[0m   \u001b[39mif\u001b[39;00m name \u001b[39mis\u001b[39;00m \u001b[39mnot\u001b[39;00m \u001b[39mNone\u001b[39;00m:\n",
      "\u001b[0;31mKeyboardInterrupt\u001b[0m: "
     ]
    }
   ],
   "source": [
    "steps_per_epoch = len(train_trim_data) // batch_size\n",
    "val_bin_steps = len(val_trim_data) // batch_size\n",
    "\n",
    "output_file = f\"./save/bin_adjusted_batch{batch_size}_lr{str(learn_rate).split('e')[-1]}.csv\"\n",
    "csv_logger = tf.keras.callbacks.CSVLogger(output_file)\n",
    "\n",
    "cat_model = gru_bin_model.fit(\n",
    "    train_bin_generator, \n",
    "    validation_data = val_bin_generator, \n",
    "    steps_per_epoch = steps_per_epoch, \n",
    "    validation_steps = val_bin_steps, \n",
    "    epochs = 40, \n",
    "    # class_weight = class_weights,\n",
    "    callbacks = [early_stopping_callback, csv_logger]\n",
    "    )"
   ]
  },
  {
   "attachments": {},
   "cell_type": "markdown",
   "metadata": {},
   "source": [
    "## Catego"
   ]
  },
  {
   "cell_type": "code",
   "execution_count": 8,
   "metadata": {},
   "outputs": [],
   "source": [
    "# For categorical classification\n",
    "\n",
    "batch_size = 128\n",
    "num_classes = len(merged_data.keys())\n",
    "\n",
    "random.shuffle(train_data)\n",
    "random.shuffle(val_data)\n",
    "random.shuffle(test_data)\n",
    "train_cat_generator = data_generator(train_data, batch_size, num_classes, method = \"categorical_merge\")\n",
    "val_cat_generator = data_generator(val_data, batch_size, num_classes, method = \"categorical_merge\")\n",
    "test_cat_generator = data_generator(test_data, batch_size, num_classes, method = \"categorical_merge\")"
   ]
  },
  {
   "cell_type": "code",
   "execution_count": 9,
   "metadata": {},
   "outputs": [],
   "source": [
    "def gru_catego():\n",
    "    model = Sequential()\n",
    "    model.add(Bidirectional(GRU(64, return_sequences=True), input_shape=(60, 1280)))\n",
    "    model.add(Dropout(0.2))\n",
    "    model.add(Bidirectional(GRU(32)))\n",
    "    model.add(Dense(64, activation='relu'))\n",
    "    model.add(Dense(num_classes, activation=\"sigmoid\"))\n",
    "\n",
    "    model.compile(optimizer='adam', loss='categorical_crossentropy', metrics=['accuracy'])\n",
    "    return model\n"
   ]
  },
  {
   "cell_type": "code",
   "execution_count": 10,
   "metadata": {},
   "outputs": [
    {
     "name": "stderr",
     "output_type": "stream",
     "text": [
      "2023-05-29 22:36:29.123699: I tensorflow/core/common_runtime/process_util.cc:146] Creating new thread pool with default inter op setting: 2. Tune using inter_op_parallelism_threads for best performance.\n",
      "2023-05-29 22:36:29.287829: I tensorflow/core/common_runtime/executor.cc:1197] [/device:CPU:0] (DEBUG INFO) Executor start aborting (this does not indicate an error and you can ignore this message): INVALID_ARGUMENT: You must feed a value for placeholder tensor 'gradients/split_2_grad/concat/split_2/split_dim' with dtype int32\n",
      "\t [[{{node gradients/split_2_grad/concat/split_2/split_dim}}]]\n",
      "2023-05-29 22:36:29.288693: I tensorflow/core/common_runtime/executor.cc:1197] [/device:CPU:0] (DEBUG INFO) Executor start aborting (this does not indicate an error and you can ignore this message): INVALID_ARGUMENT: You must feed a value for placeholder tensor 'gradients/split_grad/concat/split/split_dim' with dtype int32\n",
      "\t [[{{node gradients/split_grad/concat/split/split_dim}}]]\n",
      "2023-05-29 22:36:29.289557: I tensorflow/core/common_runtime/executor.cc:1197] [/device:CPU:0] (DEBUG INFO) Executor start aborting (this does not indicate an error and you can ignore this message): INVALID_ARGUMENT: You must feed a value for placeholder tensor 'gradients/split_1_grad/concat/split_1/split_dim' with dtype int32\n",
      "\t [[{{node gradients/split_1_grad/concat/split_1/split_dim}}]]\n",
      "2023-05-29 22:36:29.377858: I tensorflow/core/common_runtime/executor.cc:1197] [/device:CPU:0] (DEBUG INFO) Executor start aborting (this does not indicate an error and you can ignore this message): INVALID_ARGUMENT: You must feed a value for placeholder tensor 'gradients/ReverseV2_grad/ReverseV2/ReverseV2/axis' with dtype int32 and shape [1]\n",
      "\t [[{{node gradients/ReverseV2_grad/ReverseV2/ReverseV2/axis}}]]\n",
      "2023-05-29 22:36:29.407455: I tensorflow/core/common_runtime/executor.cc:1197] [/device:CPU:0] (DEBUG INFO) Executor start aborting (this does not indicate an error and you can ignore this message): INVALID_ARGUMENT: You must feed a value for placeholder tensor 'gradients/split_2_grad/concat/split_2/split_dim' with dtype int32\n",
      "\t [[{{node gradients/split_2_grad/concat/split_2/split_dim}}]]\n",
      "2023-05-29 22:36:29.408446: I tensorflow/core/common_runtime/executor.cc:1197] [/device:CPU:0] (DEBUG INFO) Executor start aborting (this does not indicate an error and you can ignore this message): INVALID_ARGUMENT: You must feed a value for placeholder tensor 'gradients/split_grad/concat/split/split_dim' with dtype int32\n",
      "\t [[{{node gradients/split_grad/concat/split/split_dim}}]]\n",
      "2023-05-29 22:36:29.409320: I tensorflow/core/common_runtime/executor.cc:1197] [/device:CPU:0] (DEBUG INFO) Executor start aborting (this does not indicate an error and you can ignore this message): INVALID_ARGUMENT: You must feed a value for placeholder tensor 'gradients/split_1_grad/concat/split_1/split_dim' with dtype int32\n",
      "\t [[{{node gradients/split_1_grad/concat/split_1/split_dim}}]]\n",
      "2023-05-29 22:36:29.526266: I tensorflow/core/common_runtime/executor.cc:1197] [/device:CPU:0] (DEBUG INFO) Executor start aborting (this does not indicate an error and you can ignore this message): INVALID_ARGUMENT: You must feed a value for placeholder tensor 'gradients/split_2_grad/concat/split_2/split_dim' with dtype int32\n",
      "\t [[{{node gradients/split_2_grad/concat/split_2/split_dim}}]]\n",
      "2023-05-29 22:36:29.527130: I tensorflow/core/common_runtime/executor.cc:1197] [/device:CPU:0] (DEBUG INFO) Executor start aborting (this does not indicate an error and you can ignore this message): INVALID_ARGUMENT: You must feed a value for placeholder tensor 'gradients/split_grad/concat/split/split_dim' with dtype int32\n",
      "\t [[{{node gradients/split_grad/concat/split/split_dim}}]]\n",
      "2023-05-29 22:36:29.527731: I tensorflow/core/common_runtime/executor.cc:1197] [/device:CPU:0] (DEBUG INFO) Executor start aborting (this does not indicate an error and you can ignore this message): INVALID_ARGUMENT: You must feed a value for placeholder tensor 'gradients/split_1_grad/concat/split_1/split_dim' with dtype int32\n",
      "\t [[{{node gradients/split_1_grad/concat/split_1/split_dim}}]]\n"
     ]
    },
    {
     "name": "stdout",
     "output_type": "stream",
     "text": [
      "Model: \"sequential\"\n",
      "_________________________________________________________________\n",
      " Layer (type)                Output Shape              Param #   \n",
      "=================================================================\n",
      " bidirectional (Bidirectiona  (None, 60, 128)          516864    \n",
      " l)                                                              \n",
      "                                                                 \n",
      " dropout (Dropout)           (None, 60, 128)           0         \n",
      "                                                                 \n",
      " bidirectional_1 (Bidirectio  (None, 64)               31104     \n",
      " nal)                                                            \n",
      "                                                                 \n",
      " dense (Dense)               (None, 64)                4160      \n",
      "                                                                 \n",
      " dense_1 (Dense)             (None, 54)                3510      \n",
      "                                                                 \n",
      "=================================================================\n",
      "Total params: 555,638\n",
      "Trainable params: 555,638\n",
      "Non-trainable params: 0\n",
      "_________________________________________________________________\n"
     ]
    },
    {
     "name": "stderr",
     "output_type": "stream",
     "text": [
      "2023-05-29 22:36:29.617878: I tensorflow/core/common_runtime/executor.cc:1197] [/device:CPU:0] (DEBUG INFO) Executor start aborting (this does not indicate an error and you can ignore this message): INVALID_ARGUMENT: You must feed a value for placeholder tensor 'gradients/ReverseV2_grad/ReverseV2/ReverseV2/axis' with dtype int32 and shape [1]\n",
      "\t [[{{node gradients/ReverseV2_grad/ReverseV2/ReverseV2/axis}}]]\n",
      "2023-05-29 22:36:29.640369: I tensorflow/core/common_runtime/executor.cc:1197] [/device:CPU:0] (DEBUG INFO) Executor start aborting (this does not indicate an error and you can ignore this message): INVALID_ARGUMENT: You must feed a value for placeholder tensor 'gradients/split_2_grad/concat/split_2/split_dim' with dtype int32\n",
      "\t [[{{node gradients/split_2_grad/concat/split_2/split_dim}}]]\n",
      "2023-05-29 22:36:29.641179: I tensorflow/core/common_runtime/executor.cc:1197] [/device:CPU:0] (DEBUG INFO) Executor start aborting (this does not indicate an error and you can ignore this message): INVALID_ARGUMENT: You must feed a value for placeholder tensor 'gradients/split_grad/concat/split/split_dim' with dtype int32\n",
      "\t [[{{node gradients/split_grad/concat/split/split_dim}}]]\n",
      "2023-05-29 22:36:29.642128: I tensorflow/core/common_runtime/executor.cc:1197] [/device:CPU:0] (DEBUG INFO) Executor start aborting (this does not indicate an error and you can ignore this message): INVALID_ARGUMENT: You must feed a value for placeholder tensor 'gradients/split_1_grad/concat/split_1/split_dim' with dtype int32\n",
      "\t [[{{node gradients/split_1_grad/concat/split_1/split_dim}}]]\n"
     ]
    }
   ],
   "source": [
    "gru_cat_sigmoid_model = gru_catego()\n",
    "gru_cat_sigmoid_model.summary()"
   ]
  },
  {
   "cell_type": "code",
   "execution_count": null,
   "metadata": {},
   "outputs": [],
   "source": [
    "\n",
    "\n",
    "steps_per_epoch = len(train_data) // batch_size\n",
    "val_steps = len(val_data) // batch_size\n",
    "cat_model = gru_cat_sigmoid_model.fit(\n",
    "    train_cat_generator, \n",
    "    validation_data = val_cat_generator, \n",
    "    steps_per_epoch = steps_per_epoch, \n",
    "    validation_steps = val_steps, \n",
    "    epochs = 40, \n",
    "    # class_weight = class_weights,\n",
    "    callbacks = [early_stopping_callback]\n",
    "    )"
   ]
  },
  {
   "cell_type": "code",
   "execution_count": 37,
   "metadata": {},
   "outputs": [
    {
     "name": "stderr",
     "output_type": "stream",
     "text": [
      "2023-05-29 16:14:54.611338: I tensorflow/core/common_runtime/executor.cc:1197] [/device:CPU:0] (DEBUG INFO) Executor start aborting (this does not indicate an error and you can ignore this message): INVALID_ARGUMENT: You must feed a value for placeholder tensor 'Placeholder/_0' with dtype int32\n",
      "\t [[{{node Placeholder/_0}}]]\n"
     ]
    },
    {
     "name": "stdout",
     "output_type": "stream",
     "text": [
      "30/30 [==============================] - 227s 8s/step - loss: 2.6041 - accuracy: 0.2372\n"
     ]
    },
    {
     "data": {
      "text/plain": [
       "[2.6041111946105957, 0.23723958432674408]"
      ]
     },
     "execution_count": 37,
     "metadata": {},
     "output_type": "execute_result"
    }
   ],
   "source": [
    "steps_test = len(test_data) // batch_size\n",
    "\n",
    "gru_cat_model.evaluate(test_cat_generator, steps=steps_test)"
   ]
  },
  {
   "cell_type": "code",
   "execution_count": 32,
   "metadata": {},
   "outputs": [],
   "source": [
    "gru_cat_model.save('./save/cat_gru_merge_model.h5')"
   ]
  },
  {
   "cell_type": "code",
   "execution_count": 12,
   "metadata": {},
   "outputs": [
    {
     "ename": "KeyError",
     "evalue": "'val_loss'",
     "output_type": "error",
     "traceback": [
      "\u001b[0;31m---------------------------------------------------------------------------\u001b[0m",
      "\u001b[0;31mKeyError\u001b[0m                                  Traceback (most recent call last)",
      "Cell \u001b[0;32mIn[12], line 2\u001b[0m\n\u001b[1;32m      1\u001b[0m train_loss \u001b[39m=\u001b[39m hist_model\u001b[39m.\u001b[39mhistory[\u001b[39m'\u001b[39m\u001b[39mloss\u001b[39m\u001b[39m'\u001b[39m]\n\u001b[0;32m----> 2\u001b[0m val_loss \u001b[39m=\u001b[39m hist_model\u001b[39m.\u001b[39;49mhistory[\u001b[39m'\u001b[39;49m\u001b[39mval_loss\u001b[39;49m\u001b[39m'\u001b[39;49m]\n\u001b[1;32m      3\u001b[0m epochs \u001b[39m=\u001b[39m \u001b[39mrange\u001b[39m(\u001b[39m1\u001b[39m, \u001b[39mlen\u001b[39m(train_loss) \u001b[39m+\u001b[39m \u001b[39m1\u001b[39m)\n\u001b[1;32m      5\u001b[0m \u001b[39m# Plot the training and validation loss\u001b[39;00m\n",
      "\u001b[0;31mKeyError\u001b[0m: 'val_loss'"
     ]
    }
   ],
   "source": [
    "train_loss = hist_model.history['loss']\n",
    "val_loss = hist_model.history['val_loss']\n",
    "epochs = range(1, len(train_loss) + 1)\n",
    "\n",
    "# Plot the training and validation loss\n",
    "plt.plot(epochs, train_loss, 'b', label='Training Loss')\n",
    "plt.plot(epochs, val_loss, 'r', label='Validation Loss')\n",
    "plt.title('Training and Validation Loss')\n",
    "plt.xlabel('Epochs')\n",
    "plt.ylabel('Loss')\n",
    "plt.legend()\n",
    "plt.show()"
   ]
  },
  {
   "attachments": {},
   "cell_type": "markdown",
   "metadata": {},
   "source": [
    "[2.6041111946105957, 0.23723958432674408] Evaluation for GRU categorical with merged data, after 16 epochs, with early stopping"
   ]
  },
  {
   "cell_type": "markdown",
   "metadata": {},
   "source": []
  }
 ],
 "metadata": {
  "kernelspec": {
   "display_name": "projet_long",
   "language": "python",
   "name": "python3"
  },
  "language_info": {
   "codemirror_mode": {
    "name": "ipython",
    "version": 3
   },
   "file_extension": ".py",
   "mimetype": "text/x-python",
   "name": "python",
   "nbconvert_exporter": "python",
   "pygments_lexer": "ipython3",
   "version": "3.10.10"
  },
  "orig_nbformat": 4
 },
 "nbformat": 4,
 "nbformat_minor": 2
}
